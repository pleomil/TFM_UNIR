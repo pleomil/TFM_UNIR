{
  "nbformat": 4,
  "nbformat_minor": 0,
  "metadata": {
    "colab": {
      "provenance": []
    },
    "kernelspec": {
      "name": "python3",
      "display_name": "Python 3"
    },
    "language_info": {
      "name": "python"
    }
  },
  "cells": [
    {
      "cell_type": "code",
      "execution_count": 2,
      "metadata": {
        "colab": {
          "base_uri": "https://localhost:8080/"
        },
        "id": "NvxbISsq4juC",
        "outputId": "9de88c5f-63e5-45d1-f685-df744e472b14"
      },
      "outputs": [
        {
          "output_type": "stream",
          "name": "stdout",
          "text": [
            "Drive already mounted at /content/drive; to attempt to forcibly remount, call drive.mount(\"/content/drive\", force_remount=True).\n"
          ]
        }
      ],
      "source": [
        "from google.colab import drive\n",
        "drive.mount('/content/drive')"
      ]
    },
    {
      "cell_type": "code",
      "source": [
        "import pandas as pd\n",
        "import numpy as np\n",
        "import matplotlib.pyplot as plt\n",
        "import seaborn as sns"
      ],
      "metadata": {
        "id": "lFPKoUBV44fy"
      },
      "execution_count": 3,
      "outputs": []
    },
    {
      "cell_type": "markdown",
      "source": [
        "# Exploratory Data Analysis"
      ],
      "metadata": {
        "id": "5W4R_RaQ5HyN"
      }
    },
    {
      "cell_type": "code",
      "source": [
        "datos = pd.read_csv('/content/drive/MyDrive/ColabNotebooks/TFM/SSSD/src/datasets/Electricity/LD2011_2014.txt', delimiter=';', index_col=0, parse_dates=['Unnamed: 0'], decimal = ',', dtype='float')"
      ],
      "metadata": {
        "id": "hS7SZ_li5ByC"
      },
      "execution_count": 4,
      "outputs": []
    },
    {
      "cell_type": "code",
      "source": [
        "datos.head"
      ],
      "metadata": {
        "colab": {
          "base_uri": "https://localhost:8080/"
        },
        "id": "Rg1wr0RkKkNE",
        "outputId": "87e7f71f-fb94-4e50-b7ea-2095d2c82837"
      },
      "execution_count": 5,
      "outputs": [
        {
          "output_type": "execute_result",
          "data": {
            "text/plain": [
              "<bound method NDFrame.head of                        MT_001     MT_002    MT_003      MT_004     MT_005  \\\n",
              "2011-01-01 00:15:00  0.000000   0.000000  0.000000    0.000000   0.000000   \n",
              "2011-01-01 00:30:00  0.000000   0.000000  0.000000    0.000000   0.000000   \n",
              "2011-01-01 00:45:00  0.000000   0.000000  0.000000    0.000000   0.000000   \n",
              "2011-01-01 01:00:00  0.000000   0.000000  0.000000    0.000000   0.000000   \n",
              "2011-01-01 01:15:00  0.000000   0.000000  0.000000    0.000000   0.000000   \n",
              "...                       ...        ...       ...         ...        ...   \n",
              "2014-12-31 23:00:00  2.538071  22.048364  1.737619  150.406504  85.365854   \n",
              "2014-12-31 23:15:00  2.538071  21.337127  1.737619  166.666667  81.707317   \n",
              "2014-12-31 23:30:00  2.538071  20.625889  1.737619  162.601626  82.926829   \n",
              "2014-12-31 23:45:00  1.269036  21.337127  1.737619  166.666667  85.365854   \n",
              "2015-01-01 00:00:00  2.538071  19.914651  1.737619  178.861789  84.146341   \n",
              "\n",
              "                         MT_006     MT_007      MT_008     MT_009     MT_010  \\\n",
              "2011-01-01 00:15:00    0.000000   0.000000    0.000000   0.000000   0.000000   \n",
              "2011-01-01 00:30:00    0.000000   0.000000    0.000000   0.000000   0.000000   \n",
              "2011-01-01 00:45:00    0.000000   0.000000    0.000000   0.000000   0.000000   \n",
              "2011-01-01 01:00:00    0.000000   0.000000    0.000000   0.000000   0.000000   \n",
              "2011-01-01 01:15:00    0.000000   0.000000    0.000000   0.000000   0.000000   \n",
              "...                         ...        ...         ...        ...        ...   \n",
              "2014-12-31 23:00:00  303.571429  11.305822  282.828283  68.181818  72.043011   \n",
              "2014-12-31 23:15:00  324.404762  11.305822  252.525253  64.685315  72.043011   \n",
              "2014-12-31 23:30:00  318.452381  10.175240  242.424242  61.188811  74.193548   \n",
              "2014-12-31 23:45:00  285.714286  10.175240  225.589226  64.685315  72.043011   \n",
              "2015-01-01 00:00:00  279.761905  10.175240  249.158249  62.937063  69.892473   \n",
              "\n",
              "                     ...      MT_361   MT_362       MT_363       MT_364  \\\n",
              "2011-01-01 00:15:00  ...    0.000000      0.0     0.000000     0.000000   \n",
              "2011-01-01 00:30:00  ...    0.000000      0.0     0.000000     0.000000   \n",
              "2011-01-01 00:45:00  ...    0.000000      0.0     0.000000     0.000000   \n",
              "2011-01-01 01:00:00  ...    0.000000      0.0     0.000000     0.000000   \n",
              "2011-01-01 01:15:00  ...    0.000000      0.0     0.000000     0.000000   \n",
              "...                  ...         ...      ...          ...          ...   \n",
              "2014-12-31 23:00:00  ...  276.945039  28200.0  1616.033755  1363.636364   \n",
              "2014-12-31 23:15:00  ...  279.800143  28300.0  1569.620253  1340.909091   \n",
              "2014-12-31 23:30:00  ...  284.796574  27800.0  1556.962025  1318.181818   \n",
              "2014-12-31 23:45:00  ...  246.252677  28000.0  1443.037975   909.090909   \n",
              "2015-01-01 00:00:00  ...  188.436831  27800.0  1409.282700   954.545455   \n",
              "\n",
              "                        MT_365    MT_366      MT_367      MT_368      MT_369  \\\n",
              "2011-01-01 00:15:00   0.000000  0.000000    0.000000    0.000000    0.000000   \n",
              "2011-01-01 00:30:00   0.000000  0.000000    0.000000    0.000000    0.000000   \n",
              "2011-01-01 00:45:00   0.000000  0.000000    0.000000    0.000000    0.000000   \n",
              "2011-01-01 01:00:00   0.000000  0.000000    0.000000    0.000000    0.000000   \n",
              "2011-01-01 01:15:00   0.000000  0.000000    0.000000    0.000000    0.000000   \n",
              "...                        ...       ...         ...         ...         ...   \n",
              "2014-12-31 23:00:00  29.986962  5.851375  697.102722  176.961603  651.026393   \n",
              "2014-12-31 23:15:00  29.986962  9.947338  671.641791  168.614357  669.354839   \n",
              "2014-12-31 23:30:00  27.379400  9.362200  670.763828  153.589316  670.087977   \n",
              "2014-12-31 23:45:00  26.075619  4.095963  664.618086  146.911519  646.627566   \n",
              "2015-01-01 00:00:00  27.379400  4.095963  628.621598  131.886477  673.020528   \n",
              "\n",
              "                          MT_370  \n",
              "2011-01-01 00:15:00     0.000000  \n",
              "2011-01-01 00:30:00     0.000000  \n",
              "2011-01-01 00:45:00     0.000000  \n",
              "2011-01-01 01:00:00     0.000000  \n",
              "2011-01-01 01:15:00     0.000000  \n",
              "...                          ...  \n",
              "2014-12-31 23:00:00  7621.621622  \n",
              "2014-12-31 23:15:00  6702.702703  \n",
              "2014-12-31 23:30:00  6864.864865  \n",
              "2014-12-31 23:45:00  6540.540541  \n",
              "2015-01-01 00:00:00  7135.135135  \n",
              "\n",
              "[140256 rows x 370 columns]>"
            ]
          },
          "metadata": {},
          "execution_count": 5
        }
      ]
    },
    {
      "cell_type": "code",
      "source": [
        "datos.head()"
      ],
      "metadata": {
        "colab": {
          "base_uri": "https://localhost:8080/",
          "height": 236
        },
        "id": "OMSTFeR25Yd_",
        "outputId": "64e5b4ea-6b56-4655-af16-7e24d43bdf2c"
      },
      "execution_count": 6,
      "outputs": [
        {
          "output_type": "execute_result",
          "data": {
            "text/plain": [
              "                     MT_001  MT_002  MT_003  MT_004  MT_005  MT_006  MT_007  \\\n",
              "2011-01-01 00:15:00     0.0     0.0     0.0     0.0     0.0     0.0     0.0   \n",
              "2011-01-01 00:30:00     0.0     0.0     0.0     0.0     0.0     0.0     0.0   \n",
              "2011-01-01 00:45:00     0.0     0.0     0.0     0.0     0.0     0.0     0.0   \n",
              "2011-01-01 01:00:00     0.0     0.0     0.0     0.0     0.0     0.0     0.0   \n",
              "2011-01-01 01:15:00     0.0     0.0     0.0     0.0     0.0     0.0     0.0   \n",
              "\n",
              "                     MT_008  MT_009  MT_010  ...  MT_361  MT_362  MT_363  \\\n",
              "2011-01-01 00:15:00     0.0     0.0     0.0  ...     0.0     0.0     0.0   \n",
              "2011-01-01 00:30:00     0.0     0.0     0.0  ...     0.0     0.0     0.0   \n",
              "2011-01-01 00:45:00     0.0     0.0     0.0  ...     0.0     0.0     0.0   \n",
              "2011-01-01 01:00:00     0.0     0.0     0.0  ...     0.0     0.0     0.0   \n",
              "2011-01-01 01:15:00     0.0     0.0     0.0  ...     0.0     0.0     0.0   \n",
              "\n",
              "                     MT_364  MT_365  MT_366  MT_367  MT_368  MT_369  MT_370  \n",
              "2011-01-01 00:15:00     0.0     0.0     0.0     0.0     0.0     0.0     0.0  \n",
              "2011-01-01 00:30:00     0.0     0.0     0.0     0.0     0.0     0.0     0.0  \n",
              "2011-01-01 00:45:00     0.0     0.0     0.0     0.0     0.0     0.0     0.0  \n",
              "2011-01-01 01:00:00     0.0     0.0     0.0     0.0     0.0     0.0     0.0  \n",
              "2011-01-01 01:15:00     0.0     0.0     0.0     0.0     0.0     0.0     0.0  \n",
              "\n",
              "[5 rows x 370 columns]"
            ],
            "text/html": [
              "\n",
              "  <div id=\"df-8a69fca0-2621-48dd-99d7-0a9de06903c6\" class=\"colab-df-container\">\n",
              "    <div>\n",
              "<style scoped>\n",
              "    .dataframe tbody tr th:only-of-type {\n",
              "        vertical-align: middle;\n",
              "    }\n",
              "\n",
              "    .dataframe tbody tr th {\n",
              "        vertical-align: top;\n",
              "    }\n",
              "\n",
              "    .dataframe thead th {\n",
              "        text-align: right;\n",
              "    }\n",
              "</style>\n",
              "<table border=\"1\" class=\"dataframe\">\n",
              "  <thead>\n",
              "    <tr style=\"text-align: right;\">\n",
              "      <th></th>\n",
              "      <th>MT_001</th>\n",
              "      <th>MT_002</th>\n",
              "      <th>MT_003</th>\n",
              "      <th>MT_004</th>\n",
              "      <th>MT_005</th>\n",
              "      <th>MT_006</th>\n",
              "      <th>MT_007</th>\n",
              "      <th>MT_008</th>\n",
              "      <th>MT_009</th>\n",
              "      <th>MT_010</th>\n",
              "      <th>...</th>\n",
              "      <th>MT_361</th>\n",
              "      <th>MT_362</th>\n",
              "      <th>MT_363</th>\n",
              "      <th>MT_364</th>\n",
              "      <th>MT_365</th>\n",
              "      <th>MT_366</th>\n",
              "      <th>MT_367</th>\n",
              "      <th>MT_368</th>\n",
              "      <th>MT_369</th>\n",
              "      <th>MT_370</th>\n",
              "    </tr>\n",
              "  </thead>\n",
              "  <tbody>\n",
              "    <tr>\n",
              "      <th>2011-01-01 00:15:00</th>\n",
              "      <td>0.0</td>\n",
              "      <td>0.0</td>\n",
              "      <td>0.0</td>\n",
              "      <td>0.0</td>\n",
              "      <td>0.0</td>\n",
              "      <td>0.0</td>\n",
              "      <td>0.0</td>\n",
              "      <td>0.0</td>\n",
              "      <td>0.0</td>\n",
              "      <td>0.0</td>\n",
              "      <td>...</td>\n",
              "      <td>0.0</td>\n",
              "      <td>0.0</td>\n",
              "      <td>0.0</td>\n",
              "      <td>0.0</td>\n",
              "      <td>0.0</td>\n",
              "      <td>0.0</td>\n",
              "      <td>0.0</td>\n",
              "      <td>0.0</td>\n",
              "      <td>0.0</td>\n",
              "      <td>0.0</td>\n",
              "    </tr>\n",
              "    <tr>\n",
              "      <th>2011-01-01 00:30:00</th>\n",
              "      <td>0.0</td>\n",
              "      <td>0.0</td>\n",
              "      <td>0.0</td>\n",
              "      <td>0.0</td>\n",
              "      <td>0.0</td>\n",
              "      <td>0.0</td>\n",
              "      <td>0.0</td>\n",
              "      <td>0.0</td>\n",
              "      <td>0.0</td>\n",
              "      <td>0.0</td>\n",
              "      <td>...</td>\n",
              "      <td>0.0</td>\n",
              "      <td>0.0</td>\n",
              "      <td>0.0</td>\n",
              "      <td>0.0</td>\n",
              "      <td>0.0</td>\n",
              "      <td>0.0</td>\n",
              "      <td>0.0</td>\n",
              "      <td>0.0</td>\n",
              "      <td>0.0</td>\n",
              "      <td>0.0</td>\n",
              "    </tr>\n",
              "    <tr>\n",
              "      <th>2011-01-01 00:45:00</th>\n",
              "      <td>0.0</td>\n",
              "      <td>0.0</td>\n",
              "      <td>0.0</td>\n",
              "      <td>0.0</td>\n",
              "      <td>0.0</td>\n",
              "      <td>0.0</td>\n",
              "      <td>0.0</td>\n",
              "      <td>0.0</td>\n",
              "      <td>0.0</td>\n",
              "      <td>0.0</td>\n",
              "      <td>...</td>\n",
              "      <td>0.0</td>\n",
              "      <td>0.0</td>\n",
              "      <td>0.0</td>\n",
              "      <td>0.0</td>\n",
              "      <td>0.0</td>\n",
              "      <td>0.0</td>\n",
              "      <td>0.0</td>\n",
              "      <td>0.0</td>\n",
              "      <td>0.0</td>\n",
              "      <td>0.0</td>\n",
              "    </tr>\n",
              "    <tr>\n",
              "      <th>2011-01-01 01:00:00</th>\n",
              "      <td>0.0</td>\n",
              "      <td>0.0</td>\n",
              "      <td>0.0</td>\n",
              "      <td>0.0</td>\n",
              "      <td>0.0</td>\n",
              "      <td>0.0</td>\n",
              "      <td>0.0</td>\n",
              "      <td>0.0</td>\n",
              "      <td>0.0</td>\n",
              "      <td>0.0</td>\n",
              "      <td>...</td>\n",
              "      <td>0.0</td>\n",
              "      <td>0.0</td>\n",
              "      <td>0.0</td>\n",
              "      <td>0.0</td>\n",
              "      <td>0.0</td>\n",
              "      <td>0.0</td>\n",
              "      <td>0.0</td>\n",
              "      <td>0.0</td>\n",
              "      <td>0.0</td>\n",
              "      <td>0.0</td>\n",
              "    </tr>\n",
              "    <tr>\n",
              "      <th>2011-01-01 01:15:00</th>\n",
              "      <td>0.0</td>\n",
              "      <td>0.0</td>\n",
              "      <td>0.0</td>\n",
              "      <td>0.0</td>\n",
              "      <td>0.0</td>\n",
              "      <td>0.0</td>\n",
              "      <td>0.0</td>\n",
              "      <td>0.0</td>\n",
              "      <td>0.0</td>\n",
              "      <td>0.0</td>\n",
              "      <td>...</td>\n",
              "      <td>0.0</td>\n",
              "      <td>0.0</td>\n",
              "      <td>0.0</td>\n",
              "      <td>0.0</td>\n",
              "      <td>0.0</td>\n",
              "      <td>0.0</td>\n",
              "      <td>0.0</td>\n",
              "      <td>0.0</td>\n",
              "      <td>0.0</td>\n",
              "      <td>0.0</td>\n",
              "    </tr>\n",
              "  </tbody>\n",
              "</table>\n",
              "<p>5 rows × 370 columns</p>\n",
              "</div>\n",
              "    <div class=\"colab-df-buttons\">\n",
              "\n",
              "  <div class=\"colab-df-container\">\n",
              "    <button class=\"colab-df-convert\" onclick=\"convertToInteractive('df-8a69fca0-2621-48dd-99d7-0a9de06903c6')\"\n",
              "            title=\"Convert this dataframe to an interactive table.\"\n",
              "            style=\"display:none;\">\n",
              "\n",
              "  <svg xmlns=\"http://www.w3.org/2000/svg\" height=\"24px\" viewBox=\"0 -960 960 960\">\n",
              "    <path d=\"M120-120v-720h720v720H120Zm60-500h600v-160H180v160Zm220 220h160v-160H400v160Zm0 220h160v-160H400v160ZM180-400h160v-160H180v160Zm440 0h160v-160H620v160ZM180-180h160v-160H180v160Zm440 0h160v-160H620v160Z\"/>\n",
              "  </svg>\n",
              "    </button>\n",
              "\n",
              "  <style>\n",
              "    .colab-df-container {\n",
              "      display:flex;\n",
              "      gap: 12px;\n",
              "    }\n",
              "\n",
              "    .colab-df-convert {\n",
              "      background-color: #E8F0FE;\n",
              "      border: none;\n",
              "      border-radius: 50%;\n",
              "      cursor: pointer;\n",
              "      display: none;\n",
              "      fill: #1967D2;\n",
              "      height: 32px;\n",
              "      padding: 0 0 0 0;\n",
              "      width: 32px;\n",
              "    }\n",
              "\n",
              "    .colab-df-convert:hover {\n",
              "      background-color: #E2EBFA;\n",
              "      box-shadow: 0px 1px 2px rgba(60, 64, 67, 0.3), 0px 1px 3px 1px rgba(60, 64, 67, 0.15);\n",
              "      fill: #174EA6;\n",
              "    }\n",
              "\n",
              "    .colab-df-buttons div {\n",
              "      margin-bottom: 4px;\n",
              "    }\n",
              "\n",
              "    [theme=dark] .colab-df-convert {\n",
              "      background-color: #3B4455;\n",
              "      fill: #D2E3FC;\n",
              "    }\n",
              "\n",
              "    [theme=dark] .colab-df-convert:hover {\n",
              "      background-color: #434B5C;\n",
              "      box-shadow: 0px 1px 3px 1px rgba(0, 0, 0, 0.15);\n",
              "      filter: drop-shadow(0px 1px 2px rgba(0, 0, 0, 0.3));\n",
              "      fill: #FFFFFF;\n",
              "    }\n",
              "  </style>\n",
              "\n",
              "    <script>\n",
              "      const buttonEl =\n",
              "        document.querySelector('#df-8a69fca0-2621-48dd-99d7-0a9de06903c6 button.colab-df-convert');\n",
              "      buttonEl.style.display =\n",
              "        google.colab.kernel.accessAllowed ? 'block' : 'none';\n",
              "\n",
              "      async function convertToInteractive(key) {\n",
              "        const element = document.querySelector('#df-8a69fca0-2621-48dd-99d7-0a9de06903c6');\n",
              "        const dataTable =\n",
              "          await google.colab.kernel.invokeFunction('convertToInteractive',\n",
              "                                                    [key], {});\n",
              "        if (!dataTable) return;\n",
              "\n",
              "        const docLinkHtml = 'Like what you see? Visit the ' +\n",
              "          '<a target=\"_blank\" href=https://colab.research.google.com/notebooks/data_table.ipynb>data table notebook</a>'\n",
              "          + ' to learn more about interactive tables.';\n",
              "        element.innerHTML = '';\n",
              "        dataTable['output_type'] = 'display_data';\n",
              "        await google.colab.output.renderOutput(dataTable, element);\n",
              "        const docLink = document.createElement('div');\n",
              "        docLink.innerHTML = docLinkHtml;\n",
              "        element.appendChild(docLink);\n",
              "      }\n",
              "    </script>\n",
              "  </div>\n",
              "\n",
              "\n",
              "<div id=\"df-e26f2846-c16d-4498-afda-8780d7ee60b2\">\n",
              "  <button class=\"colab-df-quickchart\" onclick=\"quickchart('df-e26f2846-c16d-4498-afda-8780d7ee60b2')\"\n",
              "            title=\"Suggest charts.\"\n",
              "            style=\"display:none;\">\n",
              "\n",
              "<svg xmlns=\"http://www.w3.org/2000/svg\" height=\"24px\"viewBox=\"0 0 24 24\"\n",
              "     width=\"24px\">\n",
              "    <g>\n",
              "        <path d=\"M19 3H5c-1.1 0-2 .9-2 2v14c0 1.1.9 2 2 2h14c1.1 0 2-.9 2-2V5c0-1.1-.9-2-2-2zM9 17H7v-7h2v7zm4 0h-2V7h2v10zm4 0h-2v-4h2v4z\"/>\n",
              "    </g>\n",
              "</svg>\n",
              "  </button>\n",
              "\n",
              "<style>\n",
              "  .colab-df-quickchart {\n",
              "      --bg-color: #E8F0FE;\n",
              "      --fill-color: #1967D2;\n",
              "      --hover-bg-color: #E2EBFA;\n",
              "      --hover-fill-color: #174EA6;\n",
              "      --disabled-fill-color: #AAA;\n",
              "      --disabled-bg-color: #DDD;\n",
              "  }\n",
              "\n",
              "  [theme=dark] .colab-df-quickchart {\n",
              "      --bg-color: #3B4455;\n",
              "      --fill-color: #D2E3FC;\n",
              "      --hover-bg-color: #434B5C;\n",
              "      --hover-fill-color: #FFFFFF;\n",
              "      --disabled-bg-color: #3B4455;\n",
              "      --disabled-fill-color: #666;\n",
              "  }\n",
              "\n",
              "  .colab-df-quickchart {\n",
              "    background-color: var(--bg-color);\n",
              "    border: none;\n",
              "    border-radius: 50%;\n",
              "    cursor: pointer;\n",
              "    display: none;\n",
              "    fill: var(--fill-color);\n",
              "    height: 32px;\n",
              "    padding: 0;\n",
              "    width: 32px;\n",
              "  }\n",
              "\n",
              "  .colab-df-quickchart:hover {\n",
              "    background-color: var(--hover-bg-color);\n",
              "    box-shadow: 0 1px 2px rgba(60, 64, 67, 0.3), 0 1px 3px 1px rgba(60, 64, 67, 0.15);\n",
              "    fill: var(--button-hover-fill-color);\n",
              "  }\n",
              "\n",
              "  .colab-df-quickchart-complete:disabled,\n",
              "  .colab-df-quickchart-complete:disabled:hover {\n",
              "    background-color: var(--disabled-bg-color);\n",
              "    fill: var(--disabled-fill-color);\n",
              "    box-shadow: none;\n",
              "  }\n",
              "\n",
              "  .colab-df-spinner {\n",
              "    border: 2px solid var(--fill-color);\n",
              "    border-color: transparent;\n",
              "    border-bottom-color: var(--fill-color);\n",
              "    animation:\n",
              "      spin 1s steps(1) infinite;\n",
              "  }\n",
              "\n",
              "  @keyframes spin {\n",
              "    0% {\n",
              "      border-color: transparent;\n",
              "      border-bottom-color: var(--fill-color);\n",
              "      border-left-color: var(--fill-color);\n",
              "    }\n",
              "    20% {\n",
              "      border-color: transparent;\n",
              "      border-left-color: var(--fill-color);\n",
              "      border-top-color: var(--fill-color);\n",
              "    }\n",
              "    30% {\n",
              "      border-color: transparent;\n",
              "      border-left-color: var(--fill-color);\n",
              "      border-top-color: var(--fill-color);\n",
              "      border-right-color: var(--fill-color);\n",
              "    }\n",
              "    40% {\n",
              "      border-color: transparent;\n",
              "      border-right-color: var(--fill-color);\n",
              "      border-top-color: var(--fill-color);\n",
              "    }\n",
              "    60% {\n",
              "      border-color: transparent;\n",
              "      border-right-color: var(--fill-color);\n",
              "    }\n",
              "    80% {\n",
              "      border-color: transparent;\n",
              "      border-right-color: var(--fill-color);\n",
              "      border-bottom-color: var(--fill-color);\n",
              "    }\n",
              "    90% {\n",
              "      border-color: transparent;\n",
              "      border-bottom-color: var(--fill-color);\n",
              "    }\n",
              "  }\n",
              "</style>\n",
              "\n",
              "  <script>\n",
              "    async function quickchart(key) {\n",
              "      const quickchartButtonEl =\n",
              "        document.querySelector('#' + key + ' button');\n",
              "      quickchartButtonEl.disabled = true;  // To prevent multiple clicks.\n",
              "      quickchartButtonEl.classList.add('colab-df-spinner');\n",
              "      try {\n",
              "        const charts = await google.colab.kernel.invokeFunction(\n",
              "            'suggestCharts', [key], {});\n",
              "      } catch (error) {\n",
              "        console.error('Error during call to suggestCharts:', error);\n",
              "      }\n",
              "      quickchartButtonEl.classList.remove('colab-df-spinner');\n",
              "      quickchartButtonEl.classList.add('colab-df-quickchart-complete');\n",
              "    }\n",
              "    (() => {\n",
              "      let quickchartButtonEl =\n",
              "        document.querySelector('#df-e26f2846-c16d-4498-afda-8780d7ee60b2 button');\n",
              "      quickchartButtonEl.style.display =\n",
              "        google.colab.kernel.accessAllowed ? 'block' : 'none';\n",
              "    })();\n",
              "  </script>\n",
              "</div>\n",
              "    </div>\n",
              "  </div>\n"
            ]
          },
          "metadata": {},
          "execution_count": 6
        }
      ]
    },
    {
      "cell_type": "markdown",
      "source": [
        "Tras analizar la cabecera de los datos, se identifica que la mayoría de puntos de consumo no empiezan hasta el inicio de 2012. También se identifica que la excesiva granularidad hace que muchos periodos tengan un consumo nulo.\n",
        "\n",
        "Debido a esto, se van a eliminar todos los registros hasta el 1 de enero de 2012 y se van a remuestrear los datos acumulando el consumo diario de cada uno de los puntos."
      ],
      "metadata": {
        "id": "gN4vZZccDewt"
      }
    },
    {
      "cell_type": "code",
      "source": [
        "datos.index = pd.to_datetime(datos.index)"
      ],
      "metadata": {
        "id": "k1bJZ0156kfm"
      },
      "execution_count": 7,
      "outputs": []
    },
    {
      "cell_type": "code",
      "source": [
        "datos.shape"
      ],
      "metadata": {
        "colab": {
          "base_uri": "https://localhost:8080/"
        },
        "id": "udcLl4qk69f1",
        "outputId": "9f1fa31a-ec39-4aa2-fa1f-90ea87ba02ab"
      },
      "execution_count": 8,
      "outputs": [
        {
          "output_type": "execute_result",
          "data": {
            "text/plain": [
              "(140256, 370)"
            ]
          },
          "metadata": {},
          "execution_count": 8
        }
      ]
    },
    {
      "cell_type": "code",
      "source": [
        "datos_resampled1D = datos.resample('1D').sum()"
      ],
      "metadata": {
        "id": "3dCFzvKd6KJe"
      },
      "execution_count": 9,
      "outputs": []
    },
    {
      "cell_type": "code",
      "source": [
        "datos_from2012 = datos_resampled1D.loc['2012-01-01 00:00:00':]"
      ],
      "metadata": {
        "id": "cHp5bPlK-L5G"
      },
      "execution_count": 10,
      "outputs": []
    },
    {
      "cell_type": "code",
      "source": [
        "datos_from2012.shape"
      ],
      "metadata": {
        "colab": {
          "base_uri": "https://localhost:8080/"
        },
        "id": "yJR3-7IqFZ69",
        "outputId": "68e0161c-3799-48a1-bc69-b7bff22a5ba3"
      },
      "execution_count": 11,
      "outputs": [
        {
          "output_type": "execute_result",
          "data": {
            "text/plain": [
              "(1097, 370)"
            ]
          },
          "metadata": {},
          "execution_count": 11
        }
      ]
    },
    {
      "cell_type": "code",
      "source": [
        "(datos == 0).sum().sum()"
      ],
      "metadata": {
        "colab": {
          "base_uri": "https://localhost:8080/"
        },
        "id": "iF34hnD3PV_f",
        "outputId": "7295986f-cc82-4b3b-e7ee-9fd1dc63f37c"
      },
      "execution_count": 12,
      "outputs": [
        {
          "output_type": "execute_result",
          "data": {
            "text/plain": [
              "10457342"
            ]
          },
          "metadata": {},
          "execution_count": 12
        }
      ]
    },
    {
      "cell_type": "code",
      "source": [
        "(datos == 0).sum().sum()/(datos.size)"
      ],
      "metadata": {
        "colab": {
          "base_uri": "https://localhost:8080/"
        },
        "id": "42BQv28SGWN2",
        "outputId": "a0ed8895-a1eb-4a62-acee-661ff5e20d43"
      },
      "execution_count": 13,
      "outputs": [
        {
          "output_type": "execute_result",
          "data": {
            "text/plain": [
              "0.20151071245783772"
            ]
          },
          "metadata": {},
          "execution_count": 13
        }
      ]
    },
    {
      "cell_type": "code",
      "source": [
        "(datos_from2012 == 0).sum().sum()/(datos_from2012.size)"
      ],
      "metadata": {
        "colab": {
          "base_uri": "https://localhost:8080/"
        },
        "id": "LwwrYKk-HOk9",
        "outputId": "9cf3f809-5b5c-48bf-b12f-4fad0a643887"
      },
      "execution_count": 14,
      "outputs": [
        {
          "output_type": "execute_result",
          "data": {
            "text/plain": [
              "0.07062258247308384"
            ]
          },
          "metadata": {},
          "execution_count": 14
        }
      ]
    },
    {
      "cell_type": "markdown",
      "source": [
        "Tras realizar estas operaciones se observa que se reducen las observaciones de 140256 a 1097, un 99,21%, aunque realizándolas la proporción de valores nulos desciende desde un 20,15% a un 7,06%."
      ],
      "metadata": {
        "id": "sqgyPnJKFdnF"
      }
    },
    {
      "cell_type": "code",
      "source": [
        "estaciones_con_nulos = (datos_from2012 == 0).sum().sort_values(ascending =False)[(datos_from2012 == 0).sum().sort_values(ascending =False)>0]\n",
        "estaciones_con_nulos"
      ],
      "metadata": {
        "colab": {
          "base_uri": "https://localhost:8080/"
        },
        "id": "V3BL-DOB9KO9",
        "outputId": "4200ad87-005b-4a78-a87b-f701c00affc7"
      },
      "execution_count": 15,
      "outputs": [
        {
          "output_type": "execute_result",
          "data": {
            "text/plain": [
              "MT_178    929\n",
              "MT_223    830\n",
              "MT_133    802\n",
              "MT_181    794\n",
              "MT_116    779\n",
              "MT_109    779\n",
              "MT_112    773\n",
              "MT_160    765\n",
              "MT_337    747\n",
              "MT_110    744\n",
              "MT_117    744\n",
              "MT_120    744\n",
              "MT_121    744\n",
              "MT_122    744\n",
              "MT_111    744\n",
              "MT_115    744\n",
              "MT_113    744\n",
              "MT_108    744\n",
              "MT_107    744\n",
              "MT_106    744\n",
              "MT_179    719\n",
              "MT_305    708\n",
              "MT_289    698\n",
              "MT_039    641\n",
              "MT_186    634\n",
              "MT_015    629\n",
              "MT_347    623\n",
              "MT_041    621\n",
              "MT_165    613\n",
              "MT_322    607\n",
              "MT_012    606\n",
              "MT_224    540\n",
              "MT_185    537\n",
              "MT_030    494\n",
              "MT_170    424\n",
              "MT_092    396\n",
              "MT_152    366\n",
              "MT_134    366\n",
              "MT_370    366\n",
              "MT_032    320\n",
              "MT_255    312\n",
              "MT_144    300\n",
              "MT_332    234\n",
              "MT_308    229\n",
              "MT_184    201\n",
              "MT_177    197\n",
              "MT_033    194\n",
              "MT_127    182\n",
              "MT_167    173\n",
              "MT_132    110\n",
              "MT_024     89\n",
              "MT_173     80\n",
              "MT_131     50\n",
              "MT_288     17\n",
              "MT_146      6\n",
              "MT_348      1\n",
              "dtype: int64"
            ]
          },
          "metadata": {},
          "execution_count": 15
        }
      ]
    },
    {
      "cell_type": "markdown",
      "source": [
        "Se puede observar cómo hay estaciones que no presentan consumo en varios días. Si se analizan los días sin consumo de las estaciones, hay varias que tienen días de consumo nulo igual a múltiplos de 365, por lo que se puede asumir que son estaciones que comienzan a emitir años más tarde.\n",
        "\n",
        "Para evitar que esto tenga un impacto negativo en el desarrollo de las técnicas de imputación se van a eliminar las que tienen al menos un múltiplo de 365 de consumo igual a 0."
      ],
      "metadata": {
        "id": "qy7tIn7DFAml"
      }
    },
    {
      "cell_type": "code",
      "source": [
        "estaciones_eliminar = list(estaciones_con_nulos[:40].reset_index()['index'])"
      ],
      "metadata": {
        "id": "7BM1VCJ2IeK1"
      },
      "execution_count": 16,
      "outputs": []
    },
    {
      "cell_type": "code",
      "source": [
        "print(estaciones_eliminar)"
      ],
      "metadata": {
        "colab": {
          "base_uri": "https://localhost:8080/"
        },
        "id": "BAvkVCQjI7Ln",
        "outputId": "a10a0bf6-b845-4002-e7ae-4e2ba326771e"
      },
      "execution_count": 17,
      "outputs": [
        {
          "output_type": "stream",
          "name": "stdout",
          "text": [
            "['MT_178', 'MT_223', 'MT_133', 'MT_181', 'MT_116', 'MT_109', 'MT_112', 'MT_160', 'MT_337', 'MT_110', 'MT_117', 'MT_120', 'MT_121', 'MT_122', 'MT_111', 'MT_115', 'MT_113', 'MT_108', 'MT_107', 'MT_106', 'MT_179', 'MT_305', 'MT_289', 'MT_039', 'MT_186', 'MT_015', 'MT_347', 'MT_041', 'MT_165', 'MT_322', 'MT_012', 'MT_224', 'MT_185', 'MT_030', 'MT_170', 'MT_092', 'MT_152', 'MT_134', 'MT_370', 'MT_032']\n"
          ]
        }
      ]
    },
    {
      "cell_type": "code",
      "source": [
        "datos_from2012.shape"
      ],
      "metadata": {
        "colab": {
          "base_uri": "https://localhost:8080/"
        },
        "id": "gIqbO6zKJGdu",
        "outputId": "2c4b0dd3-e7fd-4f4f-da51-aae851024dd7"
      },
      "execution_count": 18,
      "outputs": [
        {
          "output_type": "execute_result",
          "data": {
            "text/plain": [
              "(1097, 370)"
            ]
          },
          "metadata": {},
          "execution_count": 18
        }
      ]
    },
    {
      "cell_type": "code",
      "source": [
        "datos_from2012_filtered = datos_from2012.drop(estaciones_eliminar, axis = 1)\n",
        "datos_from2012_filtered.shape"
      ],
      "metadata": {
        "colab": {
          "base_uri": "https://localhost:8080/"
        },
        "id": "LbnK9txzJAL2",
        "outputId": "ac1d2e43-33af-4f8d-ddc9-a041c5af0a9b"
      },
      "execution_count": 19,
      "outputs": [
        {
          "output_type": "execute_result",
          "data": {
            "text/plain": [
              "(1097, 330)"
            ]
          },
          "metadata": {},
          "execution_count": 19
        }
      ]
    },
    {
      "cell_type": "code",
      "source": [
        "(datos_from2012_filtered == 0).sum().sum()"
      ],
      "metadata": {
        "colab": {
          "base_uri": "https://localhost:8080/"
        },
        "id": "AN4ATB2_O97N",
        "outputId": "3f479376-a4bb-49b2-cb63-cf0b8f189350"
      },
      "execution_count": 20,
      "outputs": [
        {
          "output_type": "execute_result",
          "data": {
            "text/plain": [
              "2375"
            ]
          },
          "metadata": {},
          "execution_count": 20
        }
      ]
    },
    {
      "cell_type": "code",
      "source": [
        "(datos_from2012_filtered == 0).sum().sum()/(datos_from2012_filtered.size)"
      ],
      "metadata": {
        "colab": {
          "base_uri": "https://localhost:8080/"
        },
        "id": "pjsIuzHxJNKY",
        "outputId": "e81b6cd2-fce5-44f8-f1bd-9b8ecb7b2c7b"
      },
      "execution_count": 21,
      "outputs": [
        {
          "output_type": "execute_result",
          "data": {
            "text/plain": [
              "0.006560592248832905"
            ]
          },
          "metadata": {},
          "execution_count": 21
        }
      ]
    },
    {
      "cell_type": "code",
      "source": [
        "dataset = datos_from2012_filtered"
      ],
      "metadata": {
        "id": "ZZuTB2EoKAa9"
      },
      "execution_count": 22,
      "outputs": []
    },
    {
      "cell_type": "code",
      "source": [],
      "metadata": {
        "id": "NMebPWMdS3sG"
      },
      "execution_count": 22,
      "outputs": []
    },
    {
      "cell_type": "markdown",
      "source": [
        "Con esta última transformación se tienen 0,6% de registros con consumo nulo en el dataset"
      ],
      "metadata": {
        "id": "8azabUQSJ1RN"
      }
    },
    {
      "cell_type": "code",
      "source": [
        "dataset.info()"
      ],
      "metadata": {
        "colab": {
          "base_uri": "https://localhost:8080/"
        },
        "id": "eBXAVYzQ5xvp",
        "outputId": "edc2ede0-2702-4f49-e120-012dd974c007"
      },
      "execution_count": 23,
      "outputs": [
        {
          "output_type": "stream",
          "name": "stdout",
          "text": [
            "<class 'pandas.core.frame.DataFrame'>\n",
            "DatetimeIndex: 1097 entries, 2012-01-01 to 2015-01-01\n",
            "Freq: D\n",
            "Columns: 330 entries, MT_001 to MT_369\n",
            "dtypes: float64(330)\n",
            "memory usage: 2.8 MB\n"
          ]
        }
      ]
    },
    {
      "cell_type": "markdown",
      "source": [
        "A continuación se van a analizar las métricas de distribución del dataset final."
      ],
      "metadata": {
        "id": "zhVf-W9jK15l"
      }
    },
    {
      "cell_type": "code",
      "source": [
        "metricas = dataset.describe().T\n",
        "metricas.head()"
      ],
      "metadata": {
        "colab": {
          "base_uri": "https://localhost:8080/",
          "height": 206
        },
        "id": "z2jCrYmF53JQ",
        "outputId": "933bae4e-9f43-4b81-ea6c-fd19ba367374"
      },
      "execution_count": 24,
      "outputs": [
        {
          "output_type": "execute_result",
          "data": {
            "text/plain": [
              "         count          mean          std         min          25%  \\\n",
              "MT_001  1097.0    507.681309   504.996770    2.538071   180.203046   \n",
              "MT_002  1097.0   2655.336356   374.801221   19.914651  2455.192034   \n",
              "MT_003  1097.0    373.117744   875.986875    1.737619   165.942659   \n",
              "MT_004  1097.0  10507.627973  1726.091895  178.861789  9219.512195   \n",
              "MT_005  1097.0   4761.328012  1192.980278   84.146341  3750.000000   \n",
              "\n",
              "                 50%           75%           max  \n",
              "MT_001    225.888325    727.157360   1670.050761  \n",
              "MT_002   2640.825036   2842.105263   3786.628734  \n",
              "MT_003    169.417897    213.727194   7524.761077  \n",
              "MT_004  10256.097561  11560.975610  16048.780488  \n",
              "MT_005   4608.536585   5660.975610   7525.609756  "
            ],
            "text/html": [
              "\n",
              "  <div id=\"df-4931141b-32f7-4856-a1bd-030458dcc6ba\" class=\"colab-df-container\">\n",
              "    <div>\n",
              "<style scoped>\n",
              "    .dataframe tbody tr th:only-of-type {\n",
              "        vertical-align: middle;\n",
              "    }\n",
              "\n",
              "    .dataframe tbody tr th {\n",
              "        vertical-align: top;\n",
              "    }\n",
              "\n",
              "    .dataframe thead th {\n",
              "        text-align: right;\n",
              "    }\n",
              "</style>\n",
              "<table border=\"1\" class=\"dataframe\">\n",
              "  <thead>\n",
              "    <tr style=\"text-align: right;\">\n",
              "      <th></th>\n",
              "      <th>count</th>\n",
              "      <th>mean</th>\n",
              "      <th>std</th>\n",
              "      <th>min</th>\n",
              "      <th>25%</th>\n",
              "      <th>50%</th>\n",
              "      <th>75%</th>\n",
              "      <th>max</th>\n",
              "    </tr>\n",
              "  </thead>\n",
              "  <tbody>\n",
              "    <tr>\n",
              "      <th>MT_001</th>\n",
              "      <td>1097.0</td>\n",
              "      <td>507.681309</td>\n",
              "      <td>504.996770</td>\n",
              "      <td>2.538071</td>\n",
              "      <td>180.203046</td>\n",
              "      <td>225.888325</td>\n",
              "      <td>727.157360</td>\n",
              "      <td>1670.050761</td>\n",
              "    </tr>\n",
              "    <tr>\n",
              "      <th>MT_002</th>\n",
              "      <td>1097.0</td>\n",
              "      <td>2655.336356</td>\n",
              "      <td>374.801221</td>\n",
              "      <td>19.914651</td>\n",
              "      <td>2455.192034</td>\n",
              "      <td>2640.825036</td>\n",
              "      <td>2842.105263</td>\n",
              "      <td>3786.628734</td>\n",
              "    </tr>\n",
              "    <tr>\n",
              "      <th>MT_003</th>\n",
              "      <td>1097.0</td>\n",
              "      <td>373.117744</td>\n",
              "      <td>875.986875</td>\n",
              "      <td>1.737619</td>\n",
              "      <td>165.942659</td>\n",
              "      <td>169.417897</td>\n",
              "      <td>213.727194</td>\n",
              "      <td>7524.761077</td>\n",
              "    </tr>\n",
              "    <tr>\n",
              "      <th>MT_004</th>\n",
              "      <td>1097.0</td>\n",
              "      <td>10507.627973</td>\n",
              "      <td>1726.091895</td>\n",
              "      <td>178.861789</td>\n",
              "      <td>9219.512195</td>\n",
              "      <td>10256.097561</td>\n",
              "      <td>11560.975610</td>\n",
              "      <td>16048.780488</td>\n",
              "    </tr>\n",
              "    <tr>\n",
              "      <th>MT_005</th>\n",
              "      <td>1097.0</td>\n",
              "      <td>4761.328012</td>\n",
              "      <td>1192.980278</td>\n",
              "      <td>84.146341</td>\n",
              "      <td>3750.000000</td>\n",
              "      <td>4608.536585</td>\n",
              "      <td>5660.975610</td>\n",
              "      <td>7525.609756</td>\n",
              "    </tr>\n",
              "  </tbody>\n",
              "</table>\n",
              "</div>\n",
              "    <div class=\"colab-df-buttons\">\n",
              "\n",
              "  <div class=\"colab-df-container\">\n",
              "    <button class=\"colab-df-convert\" onclick=\"convertToInteractive('df-4931141b-32f7-4856-a1bd-030458dcc6ba')\"\n",
              "            title=\"Convert this dataframe to an interactive table.\"\n",
              "            style=\"display:none;\">\n",
              "\n",
              "  <svg xmlns=\"http://www.w3.org/2000/svg\" height=\"24px\" viewBox=\"0 -960 960 960\">\n",
              "    <path d=\"M120-120v-720h720v720H120Zm60-500h600v-160H180v160Zm220 220h160v-160H400v160Zm0 220h160v-160H400v160ZM180-400h160v-160H180v160Zm440 0h160v-160H620v160ZM180-180h160v-160H180v160Zm440 0h160v-160H620v160Z\"/>\n",
              "  </svg>\n",
              "    </button>\n",
              "\n",
              "  <style>\n",
              "    .colab-df-container {\n",
              "      display:flex;\n",
              "      gap: 12px;\n",
              "    }\n",
              "\n",
              "    .colab-df-convert {\n",
              "      background-color: #E8F0FE;\n",
              "      border: none;\n",
              "      border-radius: 50%;\n",
              "      cursor: pointer;\n",
              "      display: none;\n",
              "      fill: #1967D2;\n",
              "      height: 32px;\n",
              "      padding: 0 0 0 0;\n",
              "      width: 32px;\n",
              "    }\n",
              "\n",
              "    .colab-df-convert:hover {\n",
              "      background-color: #E2EBFA;\n",
              "      box-shadow: 0px 1px 2px rgba(60, 64, 67, 0.3), 0px 1px 3px 1px rgba(60, 64, 67, 0.15);\n",
              "      fill: #174EA6;\n",
              "    }\n",
              "\n",
              "    .colab-df-buttons div {\n",
              "      margin-bottom: 4px;\n",
              "    }\n",
              "\n",
              "    [theme=dark] .colab-df-convert {\n",
              "      background-color: #3B4455;\n",
              "      fill: #D2E3FC;\n",
              "    }\n",
              "\n",
              "    [theme=dark] .colab-df-convert:hover {\n",
              "      background-color: #434B5C;\n",
              "      box-shadow: 0px 1px 3px 1px rgba(0, 0, 0, 0.15);\n",
              "      filter: drop-shadow(0px 1px 2px rgba(0, 0, 0, 0.3));\n",
              "      fill: #FFFFFF;\n",
              "    }\n",
              "  </style>\n",
              "\n",
              "    <script>\n",
              "      const buttonEl =\n",
              "        document.querySelector('#df-4931141b-32f7-4856-a1bd-030458dcc6ba button.colab-df-convert');\n",
              "      buttonEl.style.display =\n",
              "        google.colab.kernel.accessAllowed ? 'block' : 'none';\n",
              "\n",
              "      async function convertToInteractive(key) {\n",
              "        const element = document.querySelector('#df-4931141b-32f7-4856-a1bd-030458dcc6ba');\n",
              "        const dataTable =\n",
              "          await google.colab.kernel.invokeFunction('convertToInteractive',\n",
              "                                                    [key], {});\n",
              "        if (!dataTable) return;\n",
              "\n",
              "        const docLinkHtml = 'Like what you see? Visit the ' +\n",
              "          '<a target=\"_blank\" href=https://colab.research.google.com/notebooks/data_table.ipynb>data table notebook</a>'\n",
              "          + ' to learn more about interactive tables.';\n",
              "        element.innerHTML = '';\n",
              "        dataTable['output_type'] = 'display_data';\n",
              "        await google.colab.output.renderOutput(dataTable, element);\n",
              "        const docLink = document.createElement('div');\n",
              "        docLink.innerHTML = docLinkHtml;\n",
              "        element.appendChild(docLink);\n",
              "      }\n",
              "    </script>\n",
              "  </div>\n",
              "\n",
              "\n",
              "<div id=\"df-a942b25e-2399-45c8-9645-f9b1cab4ed07\">\n",
              "  <button class=\"colab-df-quickchart\" onclick=\"quickchart('df-a942b25e-2399-45c8-9645-f9b1cab4ed07')\"\n",
              "            title=\"Suggest charts.\"\n",
              "            style=\"display:none;\">\n",
              "\n",
              "<svg xmlns=\"http://www.w3.org/2000/svg\" height=\"24px\"viewBox=\"0 0 24 24\"\n",
              "     width=\"24px\">\n",
              "    <g>\n",
              "        <path d=\"M19 3H5c-1.1 0-2 .9-2 2v14c0 1.1.9 2 2 2h14c1.1 0 2-.9 2-2V5c0-1.1-.9-2-2-2zM9 17H7v-7h2v7zm4 0h-2V7h2v10zm4 0h-2v-4h2v4z\"/>\n",
              "    </g>\n",
              "</svg>\n",
              "  </button>\n",
              "\n",
              "<style>\n",
              "  .colab-df-quickchart {\n",
              "      --bg-color: #E8F0FE;\n",
              "      --fill-color: #1967D2;\n",
              "      --hover-bg-color: #E2EBFA;\n",
              "      --hover-fill-color: #174EA6;\n",
              "      --disabled-fill-color: #AAA;\n",
              "      --disabled-bg-color: #DDD;\n",
              "  }\n",
              "\n",
              "  [theme=dark] .colab-df-quickchart {\n",
              "      --bg-color: #3B4455;\n",
              "      --fill-color: #D2E3FC;\n",
              "      --hover-bg-color: #434B5C;\n",
              "      --hover-fill-color: #FFFFFF;\n",
              "      --disabled-bg-color: #3B4455;\n",
              "      --disabled-fill-color: #666;\n",
              "  }\n",
              "\n",
              "  .colab-df-quickchart {\n",
              "    background-color: var(--bg-color);\n",
              "    border: none;\n",
              "    border-radius: 50%;\n",
              "    cursor: pointer;\n",
              "    display: none;\n",
              "    fill: var(--fill-color);\n",
              "    height: 32px;\n",
              "    padding: 0;\n",
              "    width: 32px;\n",
              "  }\n",
              "\n",
              "  .colab-df-quickchart:hover {\n",
              "    background-color: var(--hover-bg-color);\n",
              "    box-shadow: 0 1px 2px rgba(60, 64, 67, 0.3), 0 1px 3px 1px rgba(60, 64, 67, 0.15);\n",
              "    fill: var(--button-hover-fill-color);\n",
              "  }\n",
              "\n",
              "  .colab-df-quickchart-complete:disabled,\n",
              "  .colab-df-quickchart-complete:disabled:hover {\n",
              "    background-color: var(--disabled-bg-color);\n",
              "    fill: var(--disabled-fill-color);\n",
              "    box-shadow: none;\n",
              "  }\n",
              "\n",
              "  .colab-df-spinner {\n",
              "    border: 2px solid var(--fill-color);\n",
              "    border-color: transparent;\n",
              "    border-bottom-color: var(--fill-color);\n",
              "    animation:\n",
              "      spin 1s steps(1) infinite;\n",
              "  }\n",
              "\n",
              "  @keyframes spin {\n",
              "    0% {\n",
              "      border-color: transparent;\n",
              "      border-bottom-color: var(--fill-color);\n",
              "      border-left-color: var(--fill-color);\n",
              "    }\n",
              "    20% {\n",
              "      border-color: transparent;\n",
              "      border-left-color: var(--fill-color);\n",
              "      border-top-color: var(--fill-color);\n",
              "    }\n",
              "    30% {\n",
              "      border-color: transparent;\n",
              "      border-left-color: var(--fill-color);\n",
              "      border-top-color: var(--fill-color);\n",
              "      border-right-color: var(--fill-color);\n",
              "    }\n",
              "    40% {\n",
              "      border-color: transparent;\n",
              "      border-right-color: var(--fill-color);\n",
              "      border-top-color: var(--fill-color);\n",
              "    }\n",
              "    60% {\n",
              "      border-color: transparent;\n",
              "      border-right-color: var(--fill-color);\n",
              "    }\n",
              "    80% {\n",
              "      border-color: transparent;\n",
              "      border-right-color: var(--fill-color);\n",
              "      border-bottom-color: var(--fill-color);\n",
              "    }\n",
              "    90% {\n",
              "      border-color: transparent;\n",
              "      border-bottom-color: var(--fill-color);\n",
              "    }\n",
              "  }\n",
              "</style>\n",
              "\n",
              "  <script>\n",
              "    async function quickchart(key) {\n",
              "      const quickchartButtonEl =\n",
              "        document.querySelector('#' + key + ' button');\n",
              "      quickchartButtonEl.disabled = true;  // To prevent multiple clicks.\n",
              "      quickchartButtonEl.classList.add('colab-df-spinner');\n",
              "      try {\n",
              "        const charts = await google.colab.kernel.invokeFunction(\n",
              "            'suggestCharts', [key], {});\n",
              "      } catch (error) {\n",
              "        console.error('Error during call to suggestCharts:', error);\n",
              "      }\n",
              "      quickchartButtonEl.classList.remove('colab-df-spinner');\n",
              "      quickchartButtonEl.classList.add('colab-df-quickchart-complete');\n",
              "    }\n",
              "    (() => {\n",
              "      let quickchartButtonEl =\n",
              "        document.querySelector('#df-a942b25e-2399-45c8-9645-f9b1cab4ed07 button');\n",
              "      quickchartButtonEl.style.display =\n",
              "        google.colab.kernel.accessAllowed ? 'block' : 'none';\n",
              "    })();\n",
              "  </script>\n",
              "</div>\n",
              "    </div>\n",
              "  </div>\n"
            ]
          },
          "metadata": {},
          "execution_count": 24
        }
      ]
    },
    {
      "cell_type": "code",
      "source": [
        "metricas_de_metricas = pd.DataFrame()\n",
        "metricas_de_metricas['mean'] = metricas['mean'].describe()\n",
        "metricas_de_metricas['std'] = metricas['std'].describe()\n",
        "metricas_de_metricas"
      ],
      "metadata": {
        "colab": {
          "base_uri": "https://localhost:8080/",
          "height": 300
        },
        "id": "D2T_xf0B55WQ",
        "outputId": "f1269b67-79a7-4961-8b23-970e7dd83e8b"
      },
      "execution_count": 25,
      "outputs": [
        {
          "output_type": "execute_result",
          "data": {
            "text/plain": [
              "               mean           std\n",
              "count  3.300000e+02  3.300000e+02\n",
              "mean   5.944710e+04  1.225315e+04\n",
              "std    2.952342e+05  1.020075e+05\n",
              "min    3.731177e+02  9.198841e+01\n",
              "25%    6.754283e+03  1.056739e+03\n",
              "50%    1.309839e+04  2.267617e+03\n",
              "75%    3.407699e+04  5.608371e+03\n",
              "max    4.808337e+06  1.828035e+06"
            ],
            "text/html": [
              "\n",
              "  <div id=\"df-d3902290-31a0-44b7-988c-8a3d28f72328\" class=\"colab-df-container\">\n",
              "    <div>\n",
              "<style scoped>\n",
              "    .dataframe tbody tr th:only-of-type {\n",
              "        vertical-align: middle;\n",
              "    }\n",
              "\n",
              "    .dataframe tbody tr th {\n",
              "        vertical-align: top;\n",
              "    }\n",
              "\n",
              "    .dataframe thead th {\n",
              "        text-align: right;\n",
              "    }\n",
              "</style>\n",
              "<table border=\"1\" class=\"dataframe\">\n",
              "  <thead>\n",
              "    <tr style=\"text-align: right;\">\n",
              "      <th></th>\n",
              "      <th>mean</th>\n",
              "      <th>std</th>\n",
              "    </tr>\n",
              "  </thead>\n",
              "  <tbody>\n",
              "    <tr>\n",
              "      <th>count</th>\n",
              "      <td>3.300000e+02</td>\n",
              "      <td>3.300000e+02</td>\n",
              "    </tr>\n",
              "    <tr>\n",
              "      <th>mean</th>\n",
              "      <td>5.944710e+04</td>\n",
              "      <td>1.225315e+04</td>\n",
              "    </tr>\n",
              "    <tr>\n",
              "      <th>std</th>\n",
              "      <td>2.952342e+05</td>\n",
              "      <td>1.020075e+05</td>\n",
              "    </tr>\n",
              "    <tr>\n",
              "      <th>min</th>\n",
              "      <td>3.731177e+02</td>\n",
              "      <td>9.198841e+01</td>\n",
              "    </tr>\n",
              "    <tr>\n",
              "      <th>25%</th>\n",
              "      <td>6.754283e+03</td>\n",
              "      <td>1.056739e+03</td>\n",
              "    </tr>\n",
              "    <tr>\n",
              "      <th>50%</th>\n",
              "      <td>1.309839e+04</td>\n",
              "      <td>2.267617e+03</td>\n",
              "    </tr>\n",
              "    <tr>\n",
              "      <th>75%</th>\n",
              "      <td>3.407699e+04</td>\n",
              "      <td>5.608371e+03</td>\n",
              "    </tr>\n",
              "    <tr>\n",
              "      <th>max</th>\n",
              "      <td>4.808337e+06</td>\n",
              "      <td>1.828035e+06</td>\n",
              "    </tr>\n",
              "  </tbody>\n",
              "</table>\n",
              "</div>\n",
              "    <div class=\"colab-df-buttons\">\n",
              "\n",
              "  <div class=\"colab-df-container\">\n",
              "    <button class=\"colab-df-convert\" onclick=\"convertToInteractive('df-d3902290-31a0-44b7-988c-8a3d28f72328')\"\n",
              "            title=\"Convert this dataframe to an interactive table.\"\n",
              "            style=\"display:none;\">\n",
              "\n",
              "  <svg xmlns=\"http://www.w3.org/2000/svg\" height=\"24px\" viewBox=\"0 -960 960 960\">\n",
              "    <path d=\"M120-120v-720h720v720H120Zm60-500h600v-160H180v160Zm220 220h160v-160H400v160Zm0 220h160v-160H400v160ZM180-400h160v-160H180v160Zm440 0h160v-160H620v160ZM180-180h160v-160H180v160Zm440 0h160v-160H620v160Z\"/>\n",
              "  </svg>\n",
              "    </button>\n",
              "\n",
              "  <style>\n",
              "    .colab-df-container {\n",
              "      display:flex;\n",
              "      gap: 12px;\n",
              "    }\n",
              "\n",
              "    .colab-df-convert {\n",
              "      background-color: #E8F0FE;\n",
              "      border: none;\n",
              "      border-radius: 50%;\n",
              "      cursor: pointer;\n",
              "      display: none;\n",
              "      fill: #1967D2;\n",
              "      height: 32px;\n",
              "      padding: 0 0 0 0;\n",
              "      width: 32px;\n",
              "    }\n",
              "\n",
              "    .colab-df-convert:hover {\n",
              "      background-color: #E2EBFA;\n",
              "      box-shadow: 0px 1px 2px rgba(60, 64, 67, 0.3), 0px 1px 3px 1px rgba(60, 64, 67, 0.15);\n",
              "      fill: #174EA6;\n",
              "    }\n",
              "\n",
              "    .colab-df-buttons div {\n",
              "      margin-bottom: 4px;\n",
              "    }\n",
              "\n",
              "    [theme=dark] .colab-df-convert {\n",
              "      background-color: #3B4455;\n",
              "      fill: #D2E3FC;\n",
              "    }\n",
              "\n",
              "    [theme=dark] .colab-df-convert:hover {\n",
              "      background-color: #434B5C;\n",
              "      box-shadow: 0px 1px 3px 1px rgba(0, 0, 0, 0.15);\n",
              "      filter: drop-shadow(0px 1px 2px rgba(0, 0, 0, 0.3));\n",
              "      fill: #FFFFFF;\n",
              "    }\n",
              "  </style>\n",
              "\n",
              "    <script>\n",
              "      const buttonEl =\n",
              "        document.querySelector('#df-d3902290-31a0-44b7-988c-8a3d28f72328 button.colab-df-convert');\n",
              "      buttonEl.style.display =\n",
              "        google.colab.kernel.accessAllowed ? 'block' : 'none';\n",
              "\n",
              "      async function convertToInteractive(key) {\n",
              "        const element = document.querySelector('#df-d3902290-31a0-44b7-988c-8a3d28f72328');\n",
              "        const dataTable =\n",
              "          await google.colab.kernel.invokeFunction('convertToInteractive',\n",
              "                                                    [key], {});\n",
              "        if (!dataTable) return;\n",
              "\n",
              "        const docLinkHtml = 'Like what you see? Visit the ' +\n",
              "          '<a target=\"_blank\" href=https://colab.research.google.com/notebooks/data_table.ipynb>data table notebook</a>'\n",
              "          + ' to learn more about interactive tables.';\n",
              "        element.innerHTML = '';\n",
              "        dataTable['output_type'] = 'display_data';\n",
              "        await google.colab.output.renderOutput(dataTable, element);\n",
              "        const docLink = document.createElement('div');\n",
              "        docLink.innerHTML = docLinkHtml;\n",
              "        element.appendChild(docLink);\n",
              "      }\n",
              "    </script>\n",
              "  </div>\n",
              "\n",
              "\n",
              "<div id=\"df-15493c8a-98a8-4419-8c09-4a3211f5a473\">\n",
              "  <button class=\"colab-df-quickchart\" onclick=\"quickchart('df-15493c8a-98a8-4419-8c09-4a3211f5a473')\"\n",
              "            title=\"Suggest charts.\"\n",
              "            style=\"display:none;\">\n",
              "\n",
              "<svg xmlns=\"http://www.w3.org/2000/svg\" height=\"24px\"viewBox=\"0 0 24 24\"\n",
              "     width=\"24px\">\n",
              "    <g>\n",
              "        <path d=\"M19 3H5c-1.1 0-2 .9-2 2v14c0 1.1.9 2 2 2h14c1.1 0 2-.9 2-2V5c0-1.1-.9-2-2-2zM9 17H7v-7h2v7zm4 0h-2V7h2v10zm4 0h-2v-4h2v4z\"/>\n",
              "    </g>\n",
              "</svg>\n",
              "  </button>\n",
              "\n",
              "<style>\n",
              "  .colab-df-quickchart {\n",
              "      --bg-color: #E8F0FE;\n",
              "      --fill-color: #1967D2;\n",
              "      --hover-bg-color: #E2EBFA;\n",
              "      --hover-fill-color: #174EA6;\n",
              "      --disabled-fill-color: #AAA;\n",
              "      --disabled-bg-color: #DDD;\n",
              "  }\n",
              "\n",
              "  [theme=dark] .colab-df-quickchart {\n",
              "      --bg-color: #3B4455;\n",
              "      --fill-color: #D2E3FC;\n",
              "      --hover-bg-color: #434B5C;\n",
              "      --hover-fill-color: #FFFFFF;\n",
              "      --disabled-bg-color: #3B4455;\n",
              "      --disabled-fill-color: #666;\n",
              "  }\n",
              "\n",
              "  .colab-df-quickchart {\n",
              "    background-color: var(--bg-color);\n",
              "    border: none;\n",
              "    border-radius: 50%;\n",
              "    cursor: pointer;\n",
              "    display: none;\n",
              "    fill: var(--fill-color);\n",
              "    height: 32px;\n",
              "    padding: 0;\n",
              "    width: 32px;\n",
              "  }\n",
              "\n",
              "  .colab-df-quickchart:hover {\n",
              "    background-color: var(--hover-bg-color);\n",
              "    box-shadow: 0 1px 2px rgba(60, 64, 67, 0.3), 0 1px 3px 1px rgba(60, 64, 67, 0.15);\n",
              "    fill: var(--button-hover-fill-color);\n",
              "  }\n",
              "\n",
              "  .colab-df-quickchart-complete:disabled,\n",
              "  .colab-df-quickchart-complete:disabled:hover {\n",
              "    background-color: var(--disabled-bg-color);\n",
              "    fill: var(--disabled-fill-color);\n",
              "    box-shadow: none;\n",
              "  }\n",
              "\n",
              "  .colab-df-spinner {\n",
              "    border: 2px solid var(--fill-color);\n",
              "    border-color: transparent;\n",
              "    border-bottom-color: var(--fill-color);\n",
              "    animation:\n",
              "      spin 1s steps(1) infinite;\n",
              "  }\n",
              "\n",
              "  @keyframes spin {\n",
              "    0% {\n",
              "      border-color: transparent;\n",
              "      border-bottom-color: var(--fill-color);\n",
              "      border-left-color: var(--fill-color);\n",
              "    }\n",
              "    20% {\n",
              "      border-color: transparent;\n",
              "      border-left-color: var(--fill-color);\n",
              "      border-top-color: var(--fill-color);\n",
              "    }\n",
              "    30% {\n",
              "      border-color: transparent;\n",
              "      border-left-color: var(--fill-color);\n",
              "      border-top-color: var(--fill-color);\n",
              "      border-right-color: var(--fill-color);\n",
              "    }\n",
              "    40% {\n",
              "      border-color: transparent;\n",
              "      border-right-color: var(--fill-color);\n",
              "      border-top-color: var(--fill-color);\n",
              "    }\n",
              "    60% {\n",
              "      border-color: transparent;\n",
              "      border-right-color: var(--fill-color);\n",
              "    }\n",
              "    80% {\n",
              "      border-color: transparent;\n",
              "      border-right-color: var(--fill-color);\n",
              "      border-bottom-color: var(--fill-color);\n",
              "    }\n",
              "    90% {\n",
              "      border-color: transparent;\n",
              "      border-bottom-color: var(--fill-color);\n",
              "    }\n",
              "  }\n",
              "</style>\n",
              "\n",
              "  <script>\n",
              "    async function quickchart(key) {\n",
              "      const quickchartButtonEl =\n",
              "        document.querySelector('#' + key + ' button');\n",
              "      quickchartButtonEl.disabled = true;  // To prevent multiple clicks.\n",
              "      quickchartButtonEl.classList.add('colab-df-spinner');\n",
              "      try {\n",
              "        const charts = await google.colab.kernel.invokeFunction(\n",
              "            'suggestCharts', [key], {});\n",
              "      } catch (error) {\n",
              "        console.error('Error during call to suggestCharts:', error);\n",
              "      }\n",
              "      quickchartButtonEl.classList.remove('colab-df-spinner');\n",
              "      quickchartButtonEl.classList.add('colab-df-quickchart-complete');\n",
              "    }\n",
              "    (() => {\n",
              "      let quickchartButtonEl =\n",
              "        document.querySelector('#df-15493c8a-98a8-4419-8c09-4a3211f5a473 button');\n",
              "      quickchartButtonEl.style.display =\n",
              "        google.colab.kernel.accessAllowed ? 'block' : 'none';\n",
              "    })();\n",
              "  </script>\n",
              "</div>\n",
              "    </div>\n",
              "  </div>\n"
            ]
          },
          "metadata": {},
          "execution_count": 25
        }
      ]
    },
    {
      "cell_type": "code",
      "source": [
        "metricas['std'].std()"
      ],
      "metadata": {
        "colab": {
          "base_uri": "https://localhost:8080/"
        },
        "id": "RXmUbMciLVJX",
        "outputId": "5b13d532-c21d-4c9d-d50e-341039bb6b33"
      },
      "execution_count": 26,
      "outputs": [
        {
          "output_type": "execute_result",
          "data": {
            "text/plain": [
              "102007.48080423231"
            ]
          },
          "metadata": {},
          "execution_count": 26
        }
      ]
    },
    {
      "cell_type": "markdown",
      "source": [
        "Se puede observar que las medias varían mucho entre cada serie temporal, por lo que para favorecer la eficiencia de los modelos de DL será necesario escalar los datos."
      ],
      "metadata": {
        "id": "bgXudBTwP0aG"
      }
    },
    {
      "cell_type": "markdown",
      "source": [
        "En las series temporales es necesario analizar los componentes de temporalidad y tendencia, para poder extraer la duración de los ciclos en caso de haberlo.\n",
        "\n",
        "Para ello, vamos a representar algunas series temporales a lo largo del margen temporal de estudio para identificar las posibles temporalidades y tendencias."
      ],
      "metadata": {
        "id": "1CUimQ0nRnEe"
      }
    },
    {
      "cell_type": "code",
      "source": [
        "dataset.to_csv('/content/drive/MyDrive/ColabNotebooks/TFM/SAITS/dataset_generating_scripts/data/Electricity_processed.txt', sep=';', decimal = ',')\n"
      ],
      "metadata": {
        "id": "x1ZF_JxDjkiW"
      },
      "execution_count": 27,
      "outputs": []
    },
    {
      "cell_type": "code",
      "source": [
        "print(dataset.index.to_period('M').unique())\n",
        "print(dataset.index.to_period('M').unique()[:24])\n",
        "print(dataset.index.to_period('M').unique()[24:30])\n",
        "print(dataset.index.to_period('M').unique()[30:])"
      ],
      "metadata": {
        "colab": {
          "base_uri": "https://localhost:8080/"
        },
        "id": "Iy9xHlZum8XF",
        "outputId": "92ce86ac-145d-4e5e-e181-3f18de1b6d8f"
      },
      "execution_count": 28,
      "outputs": [
        {
          "output_type": "stream",
          "name": "stdout",
          "text": [
            "PeriodIndex(['2012-01', '2012-02', '2012-03', '2012-04', '2012-05', '2012-06',\n",
            "             '2012-07', '2012-08', '2012-09', '2012-10', '2012-11', '2012-12',\n",
            "             '2013-01', '2013-02', '2013-03', '2013-04', '2013-05', '2013-06',\n",
            "             '2013-07', '2013-08', '2013-09', '2013-10', '2013-11', '2013-12',\n",
            "             '2014-01', '2014-02', '2014-03', '2014-04', '2014-05', '2014-06',\n",
            "             '2014-07', '2014-08', '2014-09', '2014-10', '2014-11', '2014-12',\n",
            "             '2015-01'],\n",
            "            dtype='period[M]')\n",
            "PeriodIndex(['2012-01', '2012-02', '2012-03', '2012-04', '2012-05', '2012-06',\n",
            "             '2012-07', '2012-08', '2012-09', '2012-10', '2012-11', '2012-12',\n",
            "             '2013-01', '2013-02', '2013-03', '2013-04', '2013-05', '2013-06',\n",
            "             '2013-07', '2013-08', '2013-09', '2013-10', '2013-11', '2013-12'],\n",
            "            dtype='period[M]')\n",
            "PeriodIndex(['2014-01', '2014-02', '2014-03', '2014-04', '2014-05', '2014-06'], dtype='period[M]')\n",
            "PeriodIndex(['2014-07', '2014-08', '2014-09', '2014-10', '2014-11', '2014-12',\n",
            "             '2015-01'],\n",
            "            dtype='period[M]')\n"
          ]
        }
      ]
    },
    {
      "cell_type": "markdown",
      "source": [
        "Exportación del dataset segmentado con el tamaño de secuencia de 28 días."
      ],
      "metadata": {
        "id": "UR9M71HageT5"
      }
    },
    {
      "cell_type": "code",
      "source": [
        "%cd /content/drive/MyDrive/ColabNotebooks/TFM/SAITS/dataset_generating_scripts/\n",
        "!python gene_UCI_electricity_dataset.py \\\n",
        "  --file_path data/Electricity_processed.txt \\\n",
        "  --artificial_missing_rate 0 \\\n",
        "  --seq_len 28 \\\n",
        "  --dataset_name Electricity_processed_0missingrate_28seqlen \\\n",
        "  --saving_path /content/drive/MyDrive/ColabNotebooks/TFM/generated_data"
      ],
      "metadata": {
        "colab": {
          "base_uri": "https://localhost:8080/"
        },
        "id": "NjDPAKSajEF1",
        "outputId": "bf94d6ae-9e74-4fd9-bce7-008f7475b2b6"
      },
      "execution_count": 29,
      "outputs": [
        {
          "output_type": "stream",
          "name": "stdout",
          "text": [
            "/content/drive/MyDrive/ColabNotebooks/TFM/SAITS/dataset_generating_scripts\n",
            "2023-09-03 19:29:06,938 - Namespace(file_path='data/Electricity_processed.txt', artificial_missing_rate=0.0, seq_len=28, dataset_name='Electricity_processed_0missingrate_28seqlen', saving_path='/content/drive/MyDrive/ColabNotebooks/TFM/generated_data')\n",
            "2023-09-03 19:29:07,058 - months selected as test set are <PeriodArray>\n",
            "['2012-01', '2012-02', '2012-03', '2012-04', '2012-05', '2012-06', '2012-07',\n",
            " '2012-08', '2012-09', '2012-10']\n",
            "Length: 10, dtype: period[M]\n",
            "2023-09-03 19:29:07,059 - months selected as val set are <PeriodArray>\n",
            "['2012-11', '2012-12', '2013-01', '2013-02', '2013-03', '2013-04', '2013-05',\n",
            " '2013-06', '2013-07', '2013-08']\n",
            "Length: 10, dtype: period[M]\n",
            "2023-09-03 19:29:07,060 - months selected as train set are <PeriodArray>\n",
            "['2013-09', '2013-10', '2013-11', '2013-12', '2014-01', '2014-02', '2014-03',\n",
            " '2014-04', '2014-05', '2014-06', '2014-07', '2014-08', '2014-09', '2014-10',\n",
            " '2014-11', '2014-12', '2015-01']\n",
            "Length: 17, dtype: period[M]\n",
            "2023-09-03 19:29:07,108 - In val set, num of artificially-masked values: 0.0\n",
            "2023-09-03 19:29:07,108 - In test set, num of artificially-masked values: 0.0\n",
            "2023-09-03 19:29:07,109 - Feature num: 330,\n",
            "17 (0.459) samples in train set\n",
            "10 (0.270) samples in val set\n",
            "10 (0.270) samples in test set\n",
            "\n",
            "2023-09-03 19:29:07,416 - All done. Saved to /content/drive/MyDrive/ColabNotebooks/TFM/generated_data/Electricity_processed_0missingrate_28seqlen.\n"
          ]
        }
      ]
    },
    {
      "cell_type": "code",
      "source": [
        "dataset.T"
      ],
      "metadata": {
        "colab": {
          "base_uri": "https://localhost:8080/",
          "height": 461
        },
        "id": "oF9-TSzJjt2-",
        "outputId": "c28b68c9-9cea-4047-990d-eed3ce7e4fe9"
      },
      "execution_count": 30,
      "outputs": [
        {
          "output_type": "execute_result",
          "data": {
            "text/plain": [
              "          2012-01-01    2012-01-02    2012-01-03    2012-01-04    2012-01-05  \\\n",
              "MT_001    711.928934   1025.380711   1040.609137   1093.908629   1351.522843   \n",
              "MT_002   2497.866287   2576.102418   2876.244666   2509.957326   2640.825036   \n",
              "MT_003   1999.131190    478.714162    774.978280   1369.244136   3965.247611   \n",
              "MT_004  11384.146341  12288.617886  11804.878049  11697.154472  11693.089431   \n",
              "MT_005   5489.024390   6213.414634   6456.097561   6652.439024   6384.146341   \n",
              "...              ...           ...           ...           ...           ...   \n",
              "MT_365   1715.775750   7487.614081   7830.508475   7508.474576   7352.020860   \n",
              "MT_366    988.882387   2253.364541   2638.970158   2186.073727   2458.747806   \n",
              "MT_367  41165.935031  54552.238806  55534.679543  53230.026339  56450.395083   \n",
              "MT_368   4906.510851  14155.258765  15612.687813  14357.262104  18784.641068   \n",
              "MT_369  66076.246334  77304.252199  80332.111437  76630.498534  79843.108504   \n",
              "\n",
              "          2012-01-06    2012-01-07    2012-01-08    2012-01-09    2012-01-10  \\\n",
              "MT_001   1331.218274   1148.477157   1064.720812   1159.898477   1166.243655   \n",
              "MT_002   2510.668563   2696.301565   2661.450925   2582.503556   2309.388336   \n",
              "MT_003    238.922676   2127.715030    229.365769   3200.695048   2473.501303   \n",
              "MT_004  11406.504065  12770.325203  12321.138211  10691.056911  10878.048780   \n",
              "MT_005   6274.390244   6171.951220   5525.609756   5975.609756   6387.804878   \n",
              "...              ...           ...           ...           ...           ...   \n",
              "MT_365   7567.144720   7868.318123   7590.612777   7629.726206   7705.345502   \n",
              "MT_366   2356.348742   1019.894675    692.217671   1752.486834   2252.194266   \n",
              "MT_367  56752.414399  50579.455663  41627.743635  53606.672520  55501.316945   \n",
              "MT_368  16400.667780   5908.180301   4195.325543  14257.095159  16959.933222   \n",
              "MT_369  80870.967742  74966.275660  68337.976540  75368.768328  78263.929619   \n",
              "\n",
              "        ...    2014-12-23    2014-12-24    2014-12-25    2014-12-26  \\\n",
              "MT_001  ...    250.000000    170.050761    151.015228    213.197970   \n",
              "MT_002  ...   2176.386913   2259.601707   2177.809388   2173.541963   \n",
              "MT_003  ...    165.073849    166.811468      1.737619    161.598610   \n",
              "MT_004  ...  14461.382114  13871.951220  12922.764228  13878.048780   \n",
              "MT_005  ...   7503.658537   6798.780488   6773.170732   6979.268293   \n",
              "...     ...           ...           ...           ...           ...   \n",
              "MT_365  ...   8075.619296   8059.973924   4267.275098   8024.771838   \n",
              "MT_366  ...    591.574020    537.156232    539.496782   1084.844939   \n",
              "MT_367  ...  58620.719930  54141.352063  46725.197542  53903.424056   \n",
              "MT_368  ...  16215.358932  13050.083472   4938.230384  12497.495826   \n",
              "MT_369  ...  78919.354839  75068.181818  67715.542522  76722.873900   \n",
              "\n",
              "          2014-12-27    2014-12-28    2014-12-29    2014-12-30    2014-12-31  \\\n",
              "MT_001    211.928934    227.157360    248.730964    232.233503    229.695431   \n",
              "MT_002   2145.803698   2131.578947   2212.660028   2205.547653   2273.115220   \n",
              "MT_003    177.237185    151.172893    160.729800    165.073849    166.811468   \n",
              "MT_004  14945.121951  14327.235772  14067.073171  14290.650407  14006.097561   \n",
              "MT_005   7368.292683   6776.829268   7198.780488   7189.024390   7023.170732   \n",
              "...              ...           ...           ...           ...           ...   \n",
              "MT_365   8439.374185   8169.491525   8438.070404  10615.384615   7415.906128   \n",
              "MT_366    698.069046    552.369807   1153.891164    892.334699    530.134582   \n",
              "MT_367  53481.123793  45914.837577  53928.884987  56334.503951  50259.877085   \n",
              "MT_368   7823.038397   4405.676127  12914.858097  15996.661102  13245.409015   \n",
              "MT_369  70968.475073  66135.630499  73882.697947  73950.146628  70416.422287   \n",
              "\n",
              "        2015-01-01  \n",
              "MT_001    2.538071  \n",
              "MT_002   19.914651  \n",
              "MT_003    1.737619  \n",
              "MT_004  178.861789  \n",
              "MT_005   84.146341  \n",
              "...            ...  \n",
              "MT_365   27.379400  \n",
              "MT_366    4.095963  \n",
              "MT_367  628.621598  \n",
              "MT_368  131.886477  \n",
              "MT_369  673.020528  \n",
              "\n",
              "[330 rows x 1097 columns]"
            ],
            "text/html": [
              "\n",
              "  <div id=\"df-5bcd5ef5-928f-4115-9e00-8b5a9f137d75\" class=\"colab-df-container\">\n",
              "    <div>\n",
              "<style scoped>\n",
              "    .dataframe tbody tr th:only-of-type {\n",
              "        vertical-align: middle;\n",
              "    }\n",
              "\n",
              "    .dataframe tbody tr th {\n",
              "        vertical-align: top;\n",
              "    }\n",
              "\n",
              "    .dataframe thead th {\n",
              "        text-align: right;\n",
              "    }\n",
              "</style>\n",
              "<table border=\"1\" class=\"dataframe\">\n",
              "  <thead>\n",
              "    <tr style=\"text-align: right;\">\n",
              "      <th></th>\n",
              "      <th>2012-01-01</th>\n",
              "      <th>2012-01-02</th>\n",
              "      <th>2012-01-03</th>\n",
              "      <th>2012-01-04</th>\n",
              "      <th>2012-01-05</th>\n",
              "      <th>2012-01-06</th>\n",
              "      <th>2012-01-07</th>\n",
              "      <th>2012-01-08</th>\n",
              "      <th>2012-01-09</th>\n",
              "      <th>2012-01-10</th>\n",
              "      <th>...</th>\n",
              "      <th>2014-12-23</th>\n",
              "      <th>2014-12-24</th>\n",
              "      <th>2014-12-25</th>\n",
              "      <th>2014-12-26</th>\n",
              "      <th>2014-12-27</th>\n",
              "      <th>2014-12-28</th>\n",
              "      <th>2014-12-29</th>\n",
              "      <th>2014-12-30</th>\n",
              "      <th>2014-12-31</th>\n",
              "      <th>2015-01-01</th>\n",
              "    </tr>\n",
              "  </thead>\n",
              "  <tbody>\n",
              "    <tr>\n",
              "      <th>MT_001</th>\n",
              "      <td>711.928934</td>\n",
              "      <td>1025.380711</td>\n",
              "      <td>1040.609137</td>\n",
              "      <td>1093.908629</td>\n",
              "      <td>1351.522843</td>\n",
              "      <td>1331.218274</td>\n",
              "      <td>1148.477157</td>\n",
              "      <td>1064.720812</td>\n",
              "      <td>1159.898477</td>\n",
              "      <td>1166.243655</td>\n",
              "      <td>...</td>\n",
              "      <td>250.000000</td>\n",
              "      <td>170.050761</td>\n",
              "      <td>151.015228</td>\n",
              "      <td>213.197970</td>\n",
              "      <td>211.928934</td>\n",
              "      <td>227.157360</td>\n",
              "      <td>248.730964</td>\n",
              "      <td>232.233503</td>\n",
              "      <td>229.695431</td>\n",
              "      <td>2.538071</td>\n",
              "    </tr>\n",
              "    <tr>\n",
              "      <th>MT_002</th>\n",
              "      <td>2497.866287</td>\n",
              "      <td>2576.102418</td>\n",
              "      <td>2876.244666</td>\n",
              "      <td>2509.957326</td>\n",
              "      <td>2640.825036</td>\n",
              "      <td>2510.668563</td>\n",
              "      <td>2696.301565</td>\n",
              "      <td>2661.450925</td>\n",
              "      <td>2582.503556</td>\n",
              "      <td>2309.388336</td>\n",
              "      <td>...</td>\n",
              "      <td>2176.386913</td>\n",
              "      <td>2259.601707</td>\n",
              "      <td>2177.809388</td>\n",
              "      <td>2173.541963</td>\n",
              "      <td>2145.803698</td>\n",
              "      <td>2131.578947</td>\n",
              "      <td>2212.660028</td>\n",
              "      <td>2205.547653</td>\n",
              "      <td>2273.115220</td>\n",
              "      <td>19.914651</td>\n",
              "    </tr>\n",
              "    <tr>\n",
              "      <th>MT_003</th>\n",
              "      <td>1999.131190</td>\n",
              "      <td>478.714162</td>\n",
              "      <td>774.978280</td>\n",
              "      <td>1369.244136</td>\n",
              "      <td>3965.247611</td>\n",
              "      <td>238.922676</td>\n",
              "      <td>2127.715030</td>\n",
              "      <td>229.365769</td>\n",
              "      <td>3200.695048</td>\n",
              "      <td>2473.501303</td>\n",
              "      <td>...</td>\n",
              "      <td>165.073849</td>\n",
              "      <td>166.811468</td>\n",
              "      <td>1.737619</td>\n",
              "      <td>161.598610</td>\n",
              "      <td>177.237185</td>\n",
              "      <td>151.172893</td>\n",
              "      <td>160.729800</td>\n",
              "      <td>165.073849</td>\n",
              "      <td>166.811468</td>\n",
              "      <td>1.737619</td>\n",
              "    </tr>\n",
              "    <tr>\n",
              "      <th>MT_004</th>\n",
              "      <td>11384.146341</td>\n",
              "      <td>12288.617886</td>\n",
              "      <td>11804.878049</td>\n",
              "      <td>11697.154472</td>\n",
              "      <td>11693.089431</td>\n",
              "      <td>11406.504065</td>\n",
              "      <td>12770.325203</td>\n",
              "      <td>12321.138211</td>\n",
              "      <td>10691.056911</td>\n",
              "      <td>10878.048780</td>\n",
              "      <td>...</td>\n",
              "      <td>14461.382114</td>\n",
              "      <td>13871.951220</td>\n",
              "      <td>12922.764228</td>\n",
              "      <td>13878.048780</td>\n",
              "      <td>14945.121951</td>\n",
              "      <td>14327.235772</td>\n",
              "      <td>14067.073171</td>\n",
              "      <td>14290.650407</td>\n",
              "      <td>14006.097561</td>\n",
              "      <td>178.861789</td>\n",
              "    </tr>\n",
              "    <tr>\n",
              "      <th>MT_005</th>\n",
              "      <td>5489.024390</td>\n",
              "      <td>6213.414634</td>\n",
              "      <td>6456.097561</td>\n",
              "      <td>6652.439024</td>\n",
              "      <td>6384.146341</td>\n",
              "      <td>6274.390244</td>\n",
              "      <td>6171.951220</td>\n",
              "      <td>5525.609756</td>\n",
              "      <td>5975.609756</td>\n",
              "      <td>6387.804878</td>\n",
              "      <td>...</td>\n",
              "      <td>7503.658537</td>\n",
              "      <td>6798.780488</td>\n",
              "      <td>6773.170732</td>\n",
              "      <td>6979.268293</td>\n",
              "      <td>7368.292683</td>\n",
              "      <td>6776.829268</td>\n",
              "      <td>7198.780488</td>\n",
              "      <td>7189.024390</td>\n",
              "      <td>7023.170732</td>\n",
              "      <td>84.146341</td>\n",
              "    </tr>\n",
              "    <tr>\n",
              "      <th>...</th>\n",
              "      <td>...</td>\n",
              "      <td>...</td>\n",
              "      <td>...</td>\n",
              "      <td>...</td>\n",
              "      <td>...</td>\n",
              "      <td>...</td>\n",
              "      <td>...</td>\n",
              "      <td>...</td>\n",
              "      <td>...</td>\n",
              "      <td>...</td>\n",
              "      <td>...</td>\n",
              "      <td>...</td>\n",
              "      <td>...</td>\n",
              "      <td>...</td>\n",
              "      <td>...</td>\n",
              "      <td>...</td>\n",
              "      <td>...</td>\n",
              "      <td>...</td>\n",
              "      <td>...</td>\n",
              "      <td>...</td>\n",
              "      <td>...</td>\n",
              "    </tr>\n",
              "    <tr>\n",
              "      <th>MT_365</th>\n",
              "      <td>1715.775750</td>\n",
              "      <td>7487.614081</td>\n",
              "      <td>7830.508475</td>\n",
              "      <td>7508.474576</td>\n",
              "      <td>7352.020860</td>\n",
              "      <td>7567.144720</td>\n",
              "      <td>7868.318123</td>\n",
              "      <td>7590.612777</td>\n",
              "      <td>7629.726206</td>\n",
              "      <td>7705.345502</td>\n",
              "      <td>...</td>\n",
              "      <td>8075.619296</td>\n",
              "      <td>8059.973924</td>\n",
              "      <td>4267.275098</td>\n",
              "      <td>8024.771838</td>\n",
              "      <td>8439.374185</td>\n",
              "      <td>8169.491525</td>\n",
              "      <td>8438.070404</td>\n",
              "      <td>10615.384615</td>\n",
              "      <td>7415.906128</td>\n",
              "      <td>27.379400</td>\n",
              "    </tr>\n",
              "    <tr>\n",
              "      <th>MT_366</th>\n",
              "      <td>988.882387</td>\n",
              "      <td>2253.364541</td>\n",
              "      <td>2638.970158</td>\n",
              "      <td>2186.073727</td>\n",
              "      <td>2458.747806</td>\n",
              "      <td>2356.348742</td>\n",
              "      <td>1019.894675</td>\n",
              "      <td>692.217671</td>\n",
              "      <td>1752.486834</td>\n",
              "      <td>2252.194266</td>\n",
              "      <td>...</td>\n",
              "      <td>591.574020</td>\n",
              "      <td>537.156232</td>\n",
              "      <td>539.496782</td>\n",
              "      <td>1084.844939</td>\n",
              "      <td>698.069046</td>\n",
              "      <td>552.369807</td>\n",
              "      <td>1153.891164</td>\n",
              "      <td>892.334699</td>\n",
              "      <td>530.134582</td>\n",
              "      <td>4.095963</td>\n",
              "    </tr>\n",
              "    <tr>\n",
              "      <th>MT_367</th>\n",
              "      <td>41165.935031</td>\n",
              "      <td>54552.238806</td>\n",
              "      <td>55534.679543</td>\n",
              "      <td>53230.026339</td>\n",
              "      <td>56450.395083</td>\n",
              "      <td>56752.414399</td>\n",
              "      <td>50579.455663</td>\n",
              "      <td>41627.743635</td>\n",
              "      <td>53606.672520</td>\n",
              "      <td>55501.316945</td>\n",
              "      <td>...</td>\n",
              "      <td>58620.719930</td>\n",
              "      <td>54141.352063</td>\n",
              "      <td>46725.197542</td>\n",
              "      <td>53903.424056</td>\n",
              "      <td>53481.123793</td>\n",
              "      <td>45914.837577</td>\n",
              "      <td>53928.884987</td>\n",
              "      <td>56334.503951</td>\n",
              "      <td>50259.877085</td>\n",
              "      <td>628.621598</td>\n",
              "    </tr>\n",
              "    <tr>\n",
              "      <th>MT_368</th>\n",
              "      <td>4906.510851</td>\n",
              "      <td>14155.258765</td>\n",
              "      <td>15612.687813</td>\n",
              "      <td>14357.262104</td>\n",
              "      <td>18784.641068</td>\n",
              "      <td>16400.667780</td>\n",
              "      <td>5908.180301</td>\n",
              "      <td>4195.325543</td>\n",
              "      <td>14257.095159</td>\n",
              "      <td>16959.933222</td>\n",
              "      <td>...</td>\n",
              "      <td>16215.358932</td>\n",
              "      <td>13050.083472</td>\n",
              "      <td>4938.230384</td>\n",
              "      <td>12497.495826</td>\n",
              "      <td>7823.038397</td>\n",
              "      <td>4405.676127</td>\n",
              "      <td>12914.858097</td>\n",
              "      <td>15996.661102</td>\n",
              "      <td>13245.409015</td>\n",
              "      <td>131.886477</td>\n",
              "    </tr>\n",
              "    <tr>\n",
              "      <th>MT_369</th>\n",
              "      <td>66076.246334</td>\n",
              "      <td>77304.252199</td>\n",
              "      <td>80332.111437</td>\n",
              "      <td>76630.498534</td>\n",
              "      <td>79843.108504</td>\n",
              "      <td>80870.967742</td>\n",
              "      <td>74966.275660</td>\n",
              "      <td>68337.976540</td>\n",
              "      <td>75368.768328</td>\n",
              "      <td>78263.929619</td>\n",
              "      <td>...</td>\n",
              "      <td>78919.354839</td>\n",
              "      <td>75068.181818</td>\n",
              "      <td>67715.542522</td>\n",
              "      <td>76722.873900</td>\n",
              "      <td>70968.475073</td>\n",
              "      <td>66135.630499</td>\n",
              "      <td>73882.697947</td>\n",
              "      <td>73950.146628</td>\n",
              "      <td>70416.422287</td>\n",
              "      <td>673.020528</td>\n",
              "    </tr>\n",
              "  </tbody>\n",
              "</table>\n",
              "<p>330 rows × 1097 columns</p>\n",
              "</div>\n",
              "    <div class=\"colab-df-buttons\">\n",
              "\n",
              "  <div class=\"colab-df-container\">\n",
              "    <button class=\"colab-df-convert\" onclick=\"convertToInteractive('df-5bcd5ef5-928f-4115-9e00-8b5a9f137d75')\"\n",
              "            title=\"Convert this dataframe to an interactive table.\"\n",
              "            style=\"display:none;\">\n",
              "\n",
              "  <svg xmlns=\"http://www.w3.org/2000/svg\" height=\"24px\" viewBox=\"0 -960 960 960\">\n",
              "    <path d=\"M120-120v-720h720v720H120Zm60-500h600v-160H180v160Zm220 220h160v-160H400v160Zm0 220h160v-160H400v160ZM180-400h160v-160H180v160Zm440 0h160v-160H620v160ZM180-180h160v-160H180v160Zm440 0h160v-160H620v160Z\"/>\n",
              "  </svg>\n",
              "    </button>\n",
              "\n",
              "  <style>\n",
              "    .colab-df-container {\n",
              "      display:flex;\n",
              "      gap: 12px;\n",
              "    }\n",
              "\n",
              "    .colab-df-convert {\n",
              "      background-color: #E8F0FE;\n",
              "      border: none;\n",
              "      border-radius: 50%;\n",
              "      cursor: pointer;\n",
              "      display: none;\n",
              "      fill: #1967D2;\n",
              "      height: 32px;\n",
              "      padding: 0 0 0 0;\n",
              "      width: 32px;\n",
              "    }\n",
              "\n",
              "    .colab-df-convert:hover {\n",
              "      background-color: #E2EBFA;\n",
              "      box-shadow: 0px 1px 2px rgba(60, 64, 67, 0.3), 0px 1px 3px 1px rgba(60, 64, 67, 0.15);\n",
              "      fill: #174EA6;\n",
              "    }\n",
              "\n",
              "    .colab-df-buttons div {\n",
              "      margin-bottom: 4px;\n",
              "    }\n",
              "\n",
              "    [theme=dark] .colab-df-convert {\n",
              "      background-color: #3B4455;\n",
              "      fill: #D2E3FC;\n",
              "    }\n",
              "\n",
              "    [theme=dark] .colab-df-convert:hover {\n",
              "      background-color: #434B5C;\n",
              "      box-shadow: 0px 1px 3px 1px rgba(0, 0, 0, 0.15);\n",
              "      filter: drop-shadow(0px 1px 2px rgba(0, 0, 0, 0.3));\n",
              "      fill: #FFFFFF;\n",
              "    }\n",
              "  </style>\n",
              "\n",
              "    <script>\n",
              "      const buttonEl =\n",
              "        document.querySelector('#df-5bcd5ef5-928f-4115-9e00-8b5a9f137d75 button.colab-df-convert');\n",
              "      buttonEl.style.display =\n",
              "        google.colab.kernel.accessAllowed ? 'block' : 'none';\n",
              "\n",
              "      async function convertToInteractive(key) {\n",
              "        const element = document.querySelector('#df-5bcd5ef5-928f-4115-9e00-8b5a9f137d75');\n",
              "        const dataTable =\n",
              "          await google.colab.kernel.invokeFunction('convertToInteractive',\n",
              "                                                    [key], {});\n",
              "        if (!dataTable) return;\n",
              "\n",
              "        const docLinkHtml = 'Like what you see? Visit the ' +\n",
              "          '<a target=\"_blank\" href=https://colab.research.google.com/notebooks/data_table.ipynb>data table notebook</a>'\n",
              "          + ' to learn more about interactive tables.';\n",
              "        element.innerHTML = '';\n",
              "        dataTable['output_type'] = 'display_data';\n",
              "        await google.colab.output.renderOutput(dataTable, element);\n",
              "        const docLink = document.createElement('div');\n",
              "        docLink.innerHTML = docLinkHtml;\n",
              "        element.appendChild(docLink);\n",
              "      }\n",
              "    </script>\n",
              "  </div>\n",
              "\n",
              "\n",
              "<div id=\"df-5e4d82f7-6560-423c-9e04-e5c862193eca\">\n",
              "  <button class=\"colab-df-quickchart\" onclick=\"quickchart('df-5e4d82f7-6560-423c-9e04-e5c862193eca')\"\n",
              "            title=\"Suggest charts.\"\n",
              "            style=\"display:none;\">\n",
              "\n",
              "<svg xmlns=\"http://www.w3.org/2000/svg\" height=\"24px\"viewBox=\"0 0 24 24\"\n",
              "     width=\"24px\">\n",
              "    <g>\n",
              "        <path d=\"M19 3H5c-1.1 0-2 .9-2 2v14c0 1.1.9 2 2 2h14c1.1 0 2-.9 2-2V5c0-1.1-.9-2-2-2zM9 17H7v-7h2v7zm4 0h-2V7h2v10zm4 0h-2v-4h2v4z\"/>\n",
              "    </g>\n",
              "</svg>\n",
              "  </button>\n",
              "\n",
              "<style>\n",
              "  .colab-df-quickchart {\n",
              "      --bg-color: #E8F0FE;\n",
              "      --fill-color: #1967D2;\n",
              "      --hover-bg-color: #E2EBFA;\n",
              "      --hover-fill-color: #174EA6;\n",
              "      --disabled-fill-color: #AAA;\n",
              "      --disabled-bg-color: #DDD;\n",
              "  }\n",
              "\n",
              "  [theme=dark] .colab-df-quickchart {\n",
              "      --bg-color: #3B4455;\n",
              "      --fill-color: #D2E3FC;\n",
              "      --hover-bg-color: #434B5C;\n",
              "      --hover-fill-color: #FFFFFF;\n",
              "      --disabled-bg-color: #3B4455;\n",
              "      --disabled-fill-color: #666;\n",
              "  }\n",
              "\n",
              "  .colab-df-quickchart {\n",
              "    background-color: var(--bg-color);\n",
              "    border: none;\n",
              "    border-radius: 50%;\n",
              "    cursor: pointer;\n",
              "    display: none;\n",
              "    fill: var(--fill-color);\n",
              "    height: 32px;\n",
              "    padding: 0;\n",
              "    width: 32px;\n",
              "  }\n",
              "\n",
              "  .colab-df-quickchart:hover {\n",
              "    background-color: var(--hover-bg-color);\n",
              "    box-shadow: 0 1px 2px rgba(60, 64, 67, 0.3), 0 1px 3px 1px rgba(60, 64, 67, 0.15);\n",
              "    fill: var(--button-hover-fill-color);\n",
              "  }\n",
              "\n",
              "  .colab-df-quickchart-complete:disabled,\n",
              "  .colab-df-quickchart-complete:disabled:hover {\n",
              "    background-color: var(--disabled-bg-color);\n",
              "    fill: var(--disabled-fill-color);\n",
              "    box-shadow: none;\n",
              "  }\n",
              "\n",
              "  .colab-df-spinner {\n",
              "    border: 2px solid var(--fill-color);\n",
              "    border-color: transparent;\n",
              "    border-bottom-color: var(--fill-color);\n",
              "    animation:\n",
              "      spin 1s steps(1) infinite;\n",
              "  }\n",
              "\n",
              "  @keyframes spin {\n",
              "    0% {\n",
              "      border-color: transparent;\n",
              "      border-bottom-color: var(--fill-color);\n",
              "      border-left-color: var(--fill-color);\n",
              "    }\n",
              "    20% {\n",
              "      border-color: transparent;\n",
              "      border-left-color: var(--fill-color);\n",
              "      border-top-color: var(--fill-color);\n",
              "    }\n",
              "    30% {\n",
              "      border-color: transparent;\n",
              "      border-left-color: var(--fill-color);\n",
              "      border-top-color: var(--fill-color);\n",
              "      border-right-color: var(--fill-color);\n",
              "    }\n",
              "    40% {\n",
              "      border-color: transparent;\n",
              "      border-right-color: var(--fill-color);\n",
              "      border-top-color: var(--fill-color);\n",
              "    }\n",
              "    60% {\n",
              "      border-color: transparent;\n",
              "      border-right-color: var(--fill-color);\n",
              "    }\n",
              "    80% {\n",
              "      border-color: transparent;\n",
              "      border-right-color: var(--fill-color);\n",
              "      border-bottom-color: var(--fill-color);\n",
              "    }\n",
              "    90% {\n",
              "      border-color: transparent;\n",
              "      border-bottom-color: var(--fill-color);\n",
              "    }\n",
              "  }\n",
              "</style>\n",
              "\n",
              "  <script>\n",
              "    async function quickchart(key) {\n",
              "      const quickchartButtonEl =\n",
              "        document.querySelector('#' + key + ' button');\n",
              "      quickchartButtonEl.disabled = true;  // To prevent multiple clicks.\n",
              "      quickchartButtonEl.classList.add('colab-df-spinner');\n",
              "      try {\n",
              "        const charts = await google.colab.kernel.invokeFunction(\n",
              "            'suggestCharts', [key], {});\n",
              "      } catch (error) {\n",
              "        console.error('Error during call to suggestCharts:', error);\n",
              "      }\n",
              "      quickchartButtonEl.classList.remove('colab-df-spinner');\n",
              "      quickchartButtonEl.classList.add('colab-df-quickchart-complete');\n",
              "    }\n",
              "    (() => {\n",
              "      let quickchartButtonEl =\n",
              "        document.querySelector('#df-5e4d82f7-6560-423c-9e04-e5c862193eca button');\n",
              "      quickchartButtonEl.style.display =\n",
              "        google.colab.kernel.accessAllowed ? 'block' : 'none';\n",
              "    })();\n",
              "  </script>\n",
              "</div>\n",
              "    </div>\n",
              "  </div>\n"
            ]
          },
          "metadata": {},
          "execution_count": 30
        }
      ]
    },
    {
      "cell_type": "code",
      "source": [
        "rand_points = np.random.choice(dataset.T.index.unique(), 5)\n",
        "selected_points = dataset.T[dataset.T.index.isin(rand_points)]"
      ],
      "metadata": {
        "id": "KNmXIvMYjirS"
      },
      "execution_count": 31,
      "outputs": []
    },
    {
      "cell_type": "code",
      "source": [
        "melted = pd.melt(selected_points.reset_index(), id_vars='index')\n",
        "melted.head()"
      ],
      "metadata": {
        "colab": {
          "base_uri": "https://localhost:8080/",
          "height": 206
        },
        "id": "1VsQGerokvuZ",
        "outputId": "28446ed5-cc99-4f60-9931-fc8c8a27fcfb"
      },
      "execution_count": 32,
      "outputs": [
        {
          "output_type": "execute_result",
          "data": {
            "text/plain": [
              "    index   variable          value\n",
              "0  MT_220 2012-01-01  131189.873418\n",
              "1  MT_231 2012-01-01   32963.698630\n",
              "2  MT_265 2012-01-01   12929.692132\n",
              "3  MT_310 2012-01-01   52361.345291\n",
              "4  MT_338 2012-01-01   11212.121212"
            ],
            "text/html": [
              "\n",
              "  <div id=\"df-14afc0fc-5b8d-4ecb-8e1d-40e2019f51d9\" class=\"colab-df-container\">\n",
              "    <div>\n",
              "<style scoped>\n",
              "    .dataframe tbody tr th:only-of-type {\n",
              "        vertical-align: middle;\n",
              "    }\n",
              "\n",
              "    .dataframe tbody tr th {\n",
              "        vertical-align: top;\n",
              "    }\n",
              "\n",
              "    .dataframe thead th {\n",
              "        text-align: right;\n",
              "    }\n",
              "</style>\n",
              "<table border=\"1\" class=\"dataframe\">\n",
              "  <thead>\n",
              "    <tr style=\"text-align: right;\">\n",
              "      <th></th>\n",
              "      <th>index</th>\n",
              "      <th>variable</th>\n",
              "      <th>value</th>\n",
              "    </tr>\n",
              "  </thead>\n",
              "  <tbody>\n",
              "    <tr>\n",
              "      <th>0</th>\n",
              "      <td>MT_220</td>\n",
              "      <td>2012-01-01</td>\n",
              "      <td>131189.873418</td>\n",
              "    </tr>\n",
              "    <tr>\n",
              "      <th>1</th>\n",
              "      <td>MT_231</td>\n",
              "      <td>2012-01-01</td>\n",
              "      <td>32963.698630</td>\n",
              "    </tr>\n",
              "    <tr>\n",
              "      <th>2</th>\n",
              "      <td>MT_265</td>\n",
              "      <td>2012-01-01</td>\n",
              "      <td>12929.692132</td>\n",
              "    </tr>\n",
              "    <tr>\n",
              "      <th>3</th>\n",
              "      <td>MT_310</td>\n",
              "      <td>2012-01-01</td>\n",
              "      <td>52361.345291</td>\n",
              "    </tr>\n",
              "    <tr>\n",
              "      <th>4</th>\n",
              "      <td>MT_338</td>\n",
              "      <td>2012-01-01</td>\n",
              "      <td>11212.121212</td>\n",
              "    </tr>\n",
              "  </tbody>\n",
              "</table>\n",
              "</div>\n",
              "    <div class=\"colab-df-buttons\">\n",
              "\n",
              "  <div class=\"colab-df-container\">\n",
              "    <button class=\"colab-df-convert\" onclick=\"convertToInteractive('df-14afc0fc-5b8d-4ecb-8e1d-40e2019f51d9')\"\n",
              "            title=\"Convert this dataframe to an interactive table.\"\n",
              "            style=\"display:none;\">\n",
              "\n",
              "  <svg xmlns=\"http://www.w3.org/2000/svg\" height=\"24px\" viewBox=\"0 -960 960 960\">\n",
              "    <path d=\"M120-120v-720h720v720H120Zm60-500h600v-160H180v160Zm220 220h160v-160H400v160Zm0 220h160v-160H400v160ZM180-400h160v-160H180v160Zm440 0h160v-160H620v160ZM180-180h160v-160H180v160Zm440 0h160v-160H620v160Z\"/>\n",
              "  </svg>\n",
              "    </button>\n",
              "\n",
              "  <style>\n",
              "    .colab-df-container {\n",
              "      display:flex;\n",
              "      gap: 12px;\n",
              "    }\n",
              "\n",
              "    .colab-df-convert {\n",
              "      background-color: #E8F0FE;\n",
              "      border: none;\n",
              "      border-radius: 50%;\n",
              "      cursor: pointer;\n",
              "      display: none;\n",
              "      fill: #1967D2;\n",
              "      height: 32px;\n",
              "      padding: 0 0 0 0;\n",
              "      width: 32px;\n",
              "    }\n",
              "\n",
              "    .colab-df-convert:hover {\n",
              "      background-color: #E2EBFA;\n",
              "      box-shadow: 0px 1px 2px rgba(60, 64, 67, 0.3), 0px 1px 3px 1px rgba(60, 64, 67, 0.15);\n",
              "      fill: #174EA6;\n",
              "    }\n",
              "\n",
              "    .colab-df-buttons div {\n",
              "      margin-bottom: 4px;\n",
              "    }\n",
              "\n",
              "    [theme=dark] .colab-df-convert {\n",
              "      background-color: #3B4455;\n",
              "      fill: #D2E3FC;\n",
              "    }\n",
              "\n",
              "    [theme=dark] .colab-df-convert:hover {\n",
              "      background-color: #434B5C;\n",
              "      box-shadow: 0px 1px 3px 1px rgba(0, 0, 0, 0.15);\n",
              "      filter: drop-shadow(0px 1px 2px rgba(0, 0, 0, 0.3));\n",
              "      fill: #FFFFFF;\n",
              "    }\n",
              "  </style>\n",
              "\n",
              "    <script>\n",
              "      const buttonEl =\n",
              "        document.querySelector('#df-14afc0fc-5b8d-4ecb-8e1d-40e2019f51d9 button.colab-df-convert');\n",
              "      buttonEl.style.display =\n",
              "        google.colab.kernel.accessAllowed ? 'block' : 'none';\n",
              "\n",
              "      async function convertToInteractive(key) {\n",
              "        const element = document.querySelector('#df-14afc0fc-5b8d-4ecb-8e1d-40e2019f51d9');\n",
              "        const dataTable =\n",
              "          await google.colab.kernel.invokeFunction('convertToInteractive',\n",
              "                                                    [key], {});\n",
              "        if (!dataTable) return;\n",
              "\n",
              "        const docLinkHtml = 'Like what you see? Visit the ' +\n",
              "          '<a target=\"_blank\" href=https://colab.research.google.com/notebooks/data_table.ipynb>data table notebook</a>'\n",
              "          + ' to learn more about interactive tables.';\n",
              "        element.innerHTML = '';\n",
              "        dataTable['output_type'] = 'display_data';\n",
              "        await google.colab.output.renderOutput(dataTable, element);\n",
              "        const docLink = document.createElement('div');\n",
              "        docLink.innerHTML = docLinkHtml;\n",
              "        element.appendChild(docLink);\n",
              "      }\n",
              "    </script>\n",
              "  </div>\n",
              "\n",
              "\n",
              "<div id=\"df-e03d5a39-ed72-478f-9e86-10923e9e95a9\">\n",
              "  <button class=\"colab-df-quickchart\" onclick=\"quickchart('df-e03d5a39-ed72-478f-9e86-10923e9e95a9')\"\n",
              "            title=\"Suggest charts.\"\n",
              "            style=\"display:none;\">\n",
              "\n",
              "<svg xmlns=\"http://www.w3.org/2000/svg\" height=\"24px\"viewBox=\"0 0 24 24\"\n",
              "     width=\"24px\">\n",
              "    <g>\n",
              "        <path d=\"M19 3H5c-1.1 0-2 .9-2 2v14c0 1.1.9 2 2 2h14c1.1 0 2-.9 2-2V5c0-1.1-.9-2-2-2zM9 17H7v-7h2v7zm4 0h-2V7h2v10zm4 0h-2v-4h2v4z\"/>\n",
              "    </g>\n",
              "</svg>\n",
              "  </button>\n",
              "\n",
              "<style>\n",
              "  .colab-df-quickchart {\n",
              "      --bg-color: #E8F0FE;\n",
              "      --fill-color: #1967D2;\n",
              "      --hover-bg-color: #E2EBFA;\n",
              "      --hover-fill-color: #174EA6;\n",
              "      --disabled-fill-color: #AAA;\n",
              "      --disabled-bg-color: #DDD;\n",
              "  }\n",
              "\n",
              "  [theme=dark] .colab-df-quickchart {\n",
              "      --bg-color: #3B4455;\n",
              "      --fill-color: #D2E3FC;\n",
              "      --hover-bg-color: #434B5C;\n",
              "      --hover-fill-color: #FFFFFF;\n",
              "      --disabled-bg-color: #3B4455;\n",
              "      --disabled-fill-color: #666;\n",
              "  }\n",
              "\n",
              "  .colab-df-quickchart {\n",
              "    background-color: var(--bg-color);\n",
              "    border: none;\n",
              "    border-radius: 50%;\n",
              "    cursor: pointer;\n",
              "    display: none;\n",
              "    fill: var(--fill-color);\n",
              "    height: 32px;\n",
              "    padding: 0;\n",
              "    width: 32px;\n",
              "  }\n",
              "\n",
              "  .colab-df-quickchart:hover {\n",
              "    background-color: var(--hover-bg-color);\n",
              "    box-shadow: 0 1px 2px rgba(60, 64, 67, 0.3), 0 1px 3px 1px rgba(60, 64, 67, 0.15);\n",
              "    fill: var(--button-hover-fill-color);\n",
              "  }\n",
              "\n",
              "  .colab-df-quickchart-complete:disabled,\n",
              "  .colab-df-quickchart-complete:disabled:hover {\n",
              "    background-color: var(--disabled-bg-color);\n",
              "    fill: var(--disabled-fill-color);\n",
              "    box-shadow: none;\n",
              "  }\n",
              "\n",
              "  .colab-df-spinner {\n",
              "    border: 2px solid var(--fill-color);\n",
              "    border-color: transparent;\n",
              "    border-bottom-color: var(--fill-color);\n",
              "    animation:\n",
              "      spin 1s steps(1) infinite;\n",
              "  }\n",
              "\n",
              "  @keyframes spin {\n",
              "    0% {\n",
              "      border-color: transparent;\n",
              "      border-bottom-color: var(--fill-color);\n",
              "      border-left-color: var(--fill-color);\n",
              "    }\n",
              "    20% {\n",
              "      border-color: transparent;\n",
              "      border-left-color: var(--fill-color);\n",
              "      border-top-color: var(--fill-color);\n",
              "    }\n",
              "    30% {\n",
              "      border-color: transparent;\n",
              "      border-left-color: var(--fill-color);\n",
              "      border-top-color: var(--fill-color);\n",
              "      border-right-color: var(--fill-color);\n",
              "    }\n",
              "    40% {\n",
              "      border-color: transparent;\n",
              "      border-right-color: var(--fill-color);\n",
              "      border-top-color: var(--fill-color);\n",
              "    }\n",
              "    60% {\n",
              "      border-color: transparent;\n",
              "      border-right-color: var(--fill-color);\n",
              "    }\n",
              "    80% {\n",
              "      border-color: transparent;\n",
              "      border-right-color: var(--fill-color);\n",
              "      border-bottom-color: var(--fill-color);\n",
              "    }\n",
              "    90% {\n",
              "      border-color: transparent;\n",
              "      border-bottom-color: var(--fill-color);\n",
              "    }\n",
              "  }\n",
              "</style>\n",
              "\n",
              "  <script>\n",
              "    async function quickchart(key) {\n",
              "      const quickchartButtonEl =\n",
              "        document.querySelector('#' + key + ' button');\n",
              "      quickchartButtonEl.disabled = true;  // To prevent multiple clicks.\n",
              "      quickchartButtonEl.classList.add('colab-df-spinner');\n",
              "      try {\n",
              "        const charts = await google.colab.kernel.invokeFunction(\n",
              "            'suggestCharts', [key], {});\n",
              "      } catch (error) {\n",
              "        console.error('Error during call to suggestCharts:', error);\n",
              "      }\n",
              "      quickchartButtonEl.classList.remove('colab-df-spinner');\n",
              "      quickchartButtonEl.classList.add('colab-df-quickchart-complete');\n",
              "    }\n",
              "    (() => {\n",
              "      let quickchartButtonEl =\n",
              "        document.querySelector('#df-e03d5a39-ed72-478f-9e86-10923e9e95a9 button');\n",
              "      quickchartButtonEl.style.display =\n",
              "        google.colab.kernel.accessAllowed ? 'block' : 'none';\n",
              "    })();\n",
              "  </script>\n",
              "</div>\n",
              "    </div>\n",
              "  </div>\n"
            ]
          },
          "metadata": {},
          "execution_count": 32
        }
      ]
    },
    {
      "cell_type": "code",
      "source": [
        "plt.figure(figsize=(10,5))\n",
        "\n",
        "g = sns.lineplot(melted, hue = 'index',x ='variable', y = 'value')\n",
        "g.set(ylabel = 'Electricity consumption', xlabel = 'Date', ylim=(0,120000))\n",
        "g.legend(title='Estación', loc = 'upper left')"
      ],
      "metadata": {
        "colab": {
          "base_uri": "https://localhost:8080/",
          "height": 487
        },
        "id": "EYdxFUjwl1lX",
        "outputId": "b77f5c58-d57d-4255-d4a4-fef1433522d6"
      },
      "execution_count": 33,
      "outputs": [
        {
          "output_type": "execute_result",
          "data": {
            "text/plain": [
              "<matplotlib.legend.Legend at 0x7d737f37e7a0>"
            ]
          },
          "metadata": {},
          "execution_count": 33
        },
        {
          "output_type": "display_data",
          "data": {
            "text/plain": [
              "<Figure size 1000x500 with 1 Axes>"
            ],
            "image/png": "[encoded data removed]"
          },
          "metadata": {}
        }
      ]
    },
    {
      "cell_type": "markdown",
      "source": [
        "En las cinco estaciones aleatoriamente escogidas se puede identificar varias temporalidades. Es cierto que la granularidad escogida permite identificar más fácilmente en la estación MT_098 un ciclo que va desde mayo a enero, teniendo un pico en septiembre. Sin embargo, en el caso de MT_072, parece que experimenta un ciclo anual. Por otro lado, en MT_082 es más complicado percibir a simple vista estacionalidad y tendencia."
      ],
      "metadata": {
        "id": "VXPfCyq0vYjn"
      }
    },
    {
      "cell_type": "markdown",
      "source": [
        "A continuación, vamos a analizar la tendencia y la estacionalidad de tres series aleatorias con un análisis más profundo."
      ],
      "metadata": {
        "id": "eJl-NEpTEQDw"
      }
    },
    {
      "cell_type": "code",
      "source": [
        "rand_points = np.random.choice(dataset.T.index.unique(), 3)\n",
        "selected_points = dataset.T[dataset.T.index.isin(rand_points)]\n",
        "melted_2 = pd.melt(selected_points.reset_index(), id_vars='index')\n",
        "melted_2.columns = ['station', 'date', 'consumption']"
      ],
      "metadata": {
        "id": "lgji4Ne7F-_Y"
      },
      "execution_count": 34,
      "outputs": []
    },
    {
      "cell_type": "code",
      "source": [
        "from statsmodels.tsa.seasonal import seasonal_decompose\n",
        "for i in melted_2['station'].unique():\n",
        "\n",
        "  serie_i = melted_2[melted_2['station'] == i]\n",
        "  serie_i = serie_i.set_index('date')[['consumption']]\n",
        "  serie_i = serie_i.resample('1M').sum()\n",
        "  print(i)\n",
        "  result = seasonal_decompose(x = serie_i, model='multiplicative')\n",
        "  result.plot()\n",
        "  plt.show()\n"
      ],
      "metadata": {
        "colab": {
          "base_uri": "https://localhost:8080/",
          "height": 1000
        },
        "id": "tQETxetAt8eB",
        "outputId": "3d28fcd5-f180-44eb-9dae-0cf386cc56de"
      },
      "execution_count": 35,
      "outputs": [
        {
          "output_type": "stream",
          "name": "stdout",
          "text": [
            "MT_011\n"
          ]
        },
        {
          "output_type": "display_data",
          "data": {
            "text/plain": [
              "<Figure size 640x480 with 4 Axes>"
            ],
            "image/png": "[encoded data removed]"
          },
          "metadata": {}
        },
        {
          "output_type": "stream",
          "name": "stdout",
          "text": [
            "MT_162\n"
          ]
        },
        {
          "output_type": "display_data",
          "data": {
            "text/plain": [
              "<Figure size 640x480 with 4 Axes>"
            ],
            "image/png": "[encoded data removed]"
          },
          "metadata": {}
        },
        {
          "output_type": "stream",
          "name": "stdout",
          "text": [
            "MT_355\n"
          ]
        },
        {
          "output_type": "display_data",
          "data": {
            "text/plain": [
              "<Figure size 640x480 with 4 Axes>"
            ],
            "image/png": "[encoded data removed]"
          },
          "metadata": {}
        }
      ]
    },
    {
      "cell_type": "markdown",
      "source": [
        "En todas las series se identifica una tendencia negativa y tres temporalidades en el periodo, una por año."
      ],
      "metadata": {
        "id": "hm8TNXJxHwYn"
      }
    },
    {
      "cell_type": "markdown",
      "source": [
        "Por último se van a identificar correlaciones entre las series temporales"
      ],
      "metadata": {
        "id": "X_AT1X_YYnA_"
      }
    },
    {
      "cell_type": "code",
      "source": [
        "from string import ascii_letters\n",
        "import numpy as np\n",
        "import pandas as pd\n",
        "import seaborn as sns\n",
        "import matplotlib.pyplot as plt\n",
        "\n",
        "sns.set_theme(style=\"white\")\n",
        "\n",
        "\n",
        "# Compute the correlation matrix\n",
        "corr = dataset.corr()\n",
        "\n",
        "# Generate a mask for the upper triangle\n",
        "mask = np.triu(np.ones_like(corr, dtype=bool))\n",
        "\n",
        "# Set up the matplotlib figure\n",
        "f, ax = plt.subplots(figsize=(11, 9))\n",
        "\n",
        "# Generate a custom diverging colormap\n",
        "cmap = sns.diverging_palette(230, 20, as_cmap=True)\n",
        "\n",
        "# Draw the heatmap with the mask and correct aspect ratio\n",
        "sns.heatmap(corr, mask=mask, cmap=cmap, vmax=.3, center=0,\n",
        "            square=True, linewidths=.5, cbar_kws={\"shrink\": .5})"
      ],
      "metadata": {
        "colab": {
          "base_uri": "https://localhost:8080/",
          "height": 815
        },
        "id": "vzGrUyP8YmtH",
        "outputId": "d0653a84-1a11-41f1-8fe7-1573f55291c0"
      },
      "execution_count": 36,
      "outputs": [
        {
          "output_type": "execute_result",
          "data": {
            "text/plain": [
              "<Axes: >"
            ]
          },
          "metadata": {},
          "execution_count": 36
        },
        {
          "output_type": "display_data",
          "data": {
            "text/plain": [
              "<Figure size 1100x900 with 2 Axes>"
            ],
            "image/png": "[encoded data removed]"
          },
          "metadata": {}
        }
      ]
    },
    {
      "cell_type": "markdown",
      "source": [
        "Debido a la cantidad de variables disponibles, no se percibe a través del gráfico las relaciones entre ellas. Se identifican relaciones directas fuertes de más del 90% y relaciones indirectas de más del 70%"
      ],
      "metadata": {
        "id": "Pr8WhhW4gyWC"
      }
    },
    {
      "cell_type": "code",
      "source": [
        "print(corr[(corr != 1) & (corr < -.60)].max().sort_values(ascending = True))"
      ],
      "metadata": {
        "colab": {
          "base_uri": "https://localhost:8080/"
        },
        "id": "NIHpcifpZQqB",
        "outputId": "c0b3bef2-d670-4abd-bdbd-ad0743f6947b"
      },
      "execution_count": 37,
      "outputs": [
        {
          "output_type": "stream",
          "name": "stdout",
          "text": [
            "MT_033   -0.759996\n",
            "MT_260   -0.726127\n",
            "MT_177   -0.719442\n",
            "MT_308   -0.711832\n",
            "MT_153   -0.693613\n",
            "            ...   \n",
            "MT_363         NaN\n",
            "MT_365         NaN\n",
            "MT_366         NaN\n",
            "MT_367         NaN\n",
            "MT_369         NaN\n",
            "Length: 330, dtype: float64\n"
          ]
        }
      ]
    },
    {
      "cell_type": "code",
      "source": [
        "corr.loc['MT_325'].sort_values()"
      ],
      "metadata": {
        "colab": {
          "base_uri": "https://localhost:8080/"
        },
        "id": "pGOIXh5BibgA",
        "outputId": "2b170ff8-e989-46b5-90c9-e332e6eca2ec"
      },
      "execution_count": 38,
      "outputs": [
        {
          "output_type": "execute_result",
          "data": {
            "text/plain": [
              "MT_072   -0.649634\n",
              "MT_006   -0.591498\n",
              "MT_027   -0.586806\n",
              "MT_071   -0.584994\n",
              "MT_070   -0.582878\n",
              "            ...   \n",
              "MT_314    0.923576\n",
              "MT_199    0.925580\n",
              "MT_216    0.936840\n",
              "MT_362    0.958329\n",
              "MT_325    1.000000\n",
              "Name: MT_325, Length: 330, dtype: float64"
            ]
          },
          "metadata": {},
          "execution_count": 38
        }
      ]
    },
    {
      "cell_type": "code",
      "source": [
        "corr.loc['MT_368'].sort_values()"
      ],
      "metadata": {
        "colab": {
          "base_uri": "https://localhost:8080/"
        },
        "id": "7ihGRsXLiDoh",
        "outputId": "428d687b-3152-4e49-e21f-57eac34f3228"
      },
      "execution_count": 39,
      "outputs": [
        {
          "output_type": "execute_result",
          "data": {
            "text/plain": [
              "MT_132   -0.784355\n",
              "MT_130   -0.706164\n",
              "MT_348   -0.651720\n",
              "MT_124   -0.579562\n",
              "MT_131   -0.515953\n",
              "            ...   \n",
              "MT_013    0.855349\n",
              "MT_158    0.867779\n",
              "MT_155    0.869215\n",
              "MT_162    0.894459\n",
              "MT_368    1.000000\n",
              "Name: MT_368, Length: 330, dtype: float64"
            ]
          },
          "metadata": {},
          "execution_count": 39
        }
      ]
    },
    {
      "cell_type": "markdown",
      "source": [
        "Se confirman las relaciones que se habían podido ver, por ejemplo, directas entre MT_325 y MT_362 e inversa entre MT_368 y MT_132, entre otras"
      ],
      "metadata": {
        "id": "o2rODyEvhXlq"
      }
    }
  ]
}